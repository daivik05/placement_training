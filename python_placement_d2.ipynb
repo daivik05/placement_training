{
  "nbformat": 4,
  "nbformat_minor": 0,
  "metadata": {
    "colab": {
      "provenance": [],
      "authorship_tag": "ABX9TyOK/HjkqrFmw2rSapngl03e",
      "include_colab_link": true
    },
    "kernelspec": {
      "name": "python3",
      "display_name": "Python 3"
    },
    "language_info": {
      "name": "python"
    }
  },
  "cells": [
    {
      "cell_type": "markdown",
      "metadata": {
        "id": "view-in-github",
        "colab_type": "text"
      },
      "source": [
        "<a href=\"https://colab.research.google.com/github/daivik05/placement_training/blob/main/python_placement_d2.ipynb\" target=\"_parent\"><img src=\"https://colab.research.google.com/assets/colab-badge.svg\" alt=\"Open In Colab\"/></a>"
      ]
    },
    {
      "cell_type": "code",
      "execution_count": null,
      "metadata": {
        "id": "lrpcGXl38cmS"
      },
      "outputs": [],
      "source": [
        "num= int(input(\"enter the marks\"))\n",
        "if num  num/num==1:\n",
        "    print (\"its prime\")\n",
        "else:\n",
        "    print(\"not prime\")\n"
      ]
    },
    {
      "cell_type": "code",
      "source": [
        "def factorial(n):\n",
        "  if n == 0:\n",
        "    return 1\n",
        "  else:\n",
        "    return n * factorial(n-1)\n",
        "factorial(5)\n"
      ],
      "metadata": {
        "colab": {
          "base_uri": "https://localhost:8080/"
        },
        "id": "aupEbCbM8jnR",
        "outputId": "3cfd6e30-7336-47fe-ff71-f6feb90e9fd7"
      },
      "execution_count": null,
      "outputs": [
        {
          "output_type": "execute_result",
          "data": {
            "text/plain": [
              "120"
            ]
          },
          "metadata": {},
          "execution_count": 9
        }
      ]
    },
    {
      "cell_type": "code",
      "source": [
        "num = int(input(\"Enter a number: \"))\n",
        "for i in range(1, 11):\n",
        "  product = num * i\n",
        "  print(f\"{num} x {i} = {product}\")\n"
      ],
      "metadata": {
        "colab": {
          "base_uri": "https://localhost:8080/"
        },
        "id": "fqKCa4W4S-te",
        "outputId": "b7549c7f-4bbf-415f-e2f8-7e1bd343eaa7"
      },
      "execution_count": null,
      "outputs": [
        {
          "output_type": "stream",
          "name": "stdout",
          "text": [
            "Enter a number: 10\n",
            "10 x 1 = 10\n",
            "10 x 2 = 20\n",
            "10 x 3 = 30\n",
            "10 x 4 = 40\n",
            "10 x 5 = 50\n",
            "10 x 6 = 60\n",
            "10 x 7 = 70\n",
            "10 x 8 = 80\n",
            "10 x 9 = 90\n",
            "10 x 10 = 100\n"
          ]
        }
      ]
    },
    {
      "cell_type": "code",
      "source": [
        "sum=0\n",
        "num=int(input('enter the number'))\n",
        "temp=num\n",
        "while(num):\n",
        "  i=1\n",
        "  f=1\n",
        "  r=num%10\n",
        "  while(i<=r):\n",
        "    f=f*i\n",
        "    i=i+1\n",
        "  sum=sum+f\n",
        "  num=num//10\n",
        "if(temp==sum):\n",
        "  print(\"strong num\")\n",
        "else:\n",
        "  print(\"no strong num\")"
      ],
      "metadata": {
        "colab": {
          "base_uri": "https://localhost:8080/"
        },
        "id": "92CoqGl3B8TJ",
        "outputId": "39bf1cc8-38a6-4b0a-e2ad-a5f34b20168a"
      },
      "execution_count": null,
      "outputs": [
        {
          "output_type": "stream",
          "name": "stdout",
          "text": [
            "enter the number56\n",
            "no strong num\n"
          ]
        }
      ]
    },
    {
      "cell_type": "code",
      "source": [
        "num = int(input(\"Enter a number: \"))\n",
        "order= len(str(num))\n",
        "sum=0\n",
        "temp = num\n",
        "while temp > 0:\n",
        "   digit = temp % 10\n",
        "   sum += digit ** order\n",
        "   temp //= 10\n",
        "if num == sum:\n",
        "   print(num,\"is an Armstrong number\")\n",
        "else:\n",
        "   print(num,\"is not an Armstrong number\")"
      ],
      "metadata": {
        "colab": {
          "base_uri": "https://localhost:8080/"
        },
        "id": "alFc5wgPMgl8",
        "outputId": "5c5df880-0485-43c2-f783-55793a1bfbc2"
      },
      "execution_count": null,
      "outputs": [
        {
          "output_type": "stream",
          "name": "stdout",
          "text": [
            "Enter a number: 153\n",
            "153 is an Armstrong number\n"
          ]
        }
      ]
    },
    {
      "cell_type": "code",
      "source": [
        "num = int(input(\"Enter a number: \"))\n",
        "square = num * num\n",
        "sum = 0\n",
        "while square > 0:\n",
        "  sum += square % 10\n",
        "  square //= 10\n",
        "if sum == num:\n",
        "  print(num, \"is a Neon number\")\n",
        "else:\n",
        "  print(num, \"is not a Neon number\")\n"
      ],
      "metadata": {
        "colab": {
          "base_uri": "https://localhost:8080/"
        },
        "id": "3fjySuzsOVz6",
        "outputId": "4dd500e0-888b-433a-e664-936817f76cf6"
      },
      "execution_count": null,
      "outputs": [
        {
          "output_type": "stream",
          "name": "stdout",
          "text": [
            "Enter a number: 9\n",
            "9 is a Neon number\n"
          ]
        }
      ]
    },
    {
      "cell_type": "code",
      "source": [
        "num=int(input(\"enter the number\"))\n",
        "temp=num\n",
        "sum=0\n",
        "product=1\n",
        "while(num>0):\n",
        "  r=num%10\n",
        "  sum=sum+r\n",
        "  product=product*r\n",
        "  num=num//10\n",
        "if(sum==product):\n",
        "  print(\"spy number\")\n",
        "else:\n",
        "  print(\"not spy number\")"
      ],
      "metadata": {
        "colab": {
          "base_uri": "https://localhost:8080/"
        },
        "id": "HzAN6lP2UqM1",
        "outputId": "07ed7666-c26e-430b-a331-477f2be9c8bb"
      },
      "execution_count": null,
      "outputs": [
        {
          "output_type": "stream",
          "name": "stdout",
          "text": [
            "enter the number1\n",
            "spy number\n"
          ]
        }
      ]
    },
    {
      "cell_type": "code",
      "source": [
        "num=int(input(\"enter the number\"))\n",
        "temp=num\n",
        "sum=0\n",
        "while(num!=0):\n",
        "  r=num%10\n",
        "  sum=sum+r*r\n",
        "  num=num//10\n",
        "  print(sum)\n",
        "if(temp==1):\n",
        "  print(\"happy number\")\n",
        "else:\n",
        "  print(\"not happy number\")"
      ],
      "metadata": {
        "colab": {
          "base_uri": "https://localhost:8080/"
        },
        "id": "MR8RjMMK7B1C",
        "outputId": "e26a0bc1-e978-4a50-f0a8-5ac2b903a45e"
      },
      "execution_count": null,
      "outputs": [
        {
          "output_type": "stream",
          "name": "stdout",
          "text": [
            "enter the number19\n",
            "81\n",
            "82\n",
            "not happy number\n"
          ]
        }
      ]
    },
    {
      "cell_type": "code",
      "source": [
        "num=int(input(\"enter the number\"))\n",
        "temp=num\n",
        "while(temp!=1 and temp!=4):\n",
        "  sum=0\n",
        "  while(temp>0):\n",
        "    r=temp%10\n",
        "    sum=sum+r\n",
        "    temp=temp//10\n",
        "  temp=sum\n",
        "if(temp==1):\n",
        "  print(\"happy number\")\n",
        "else:\n",
        "  print(\"not happy number\")"
      ],
      "metadata": {
        "colab": {
          "base_uri": "https://localhost:8080/"
        },
        "id": "i2KCrMUhHSB8",
        "outputId": "44008bbc-9fd3-4cd7-b006-bd3f14c03af5"
      },
      "execution_count": null,
      "outputs": [
        {
          "output_type": "stream",
          "name": "stdout",
          "text": [
            "enter the number19\n",
            "happy number\n"
          ]
        }
      ]
    },
    {
      "cell_type": "code",
      "source": [
        "start = int(input(\"Enter the starting number: \"))\n",
        "end = int(input(\"Enter the ending number: \"))\n",
        "count=0\n",
        "for num in range(start, end + 1):\n",
        "  for i in range(2, num):\n",
        "    if num % i == 0:\n",
        "      break\n",
        "  else:\n",
        "    print(num, end=\" \")\n",
        "    count+=1\n",
        "print(\" \")\n",
        "print(\"Total prime numbers between\", start, \"and\", end, \"are:\", count)"
      ],
      "metadata": {
        "colab": {
          "base_uri": "https://localhost:8080/"
        },
        "id": "YK8-5-82KrB6",
        "outputId": "32e9f9b0-3823-4063-f318-8b8ff2611237"
      },
      "execution_count": null,
      "outputs": [
        {
          "output_type": "stream",
          "name": "stdout",
          "text": [
            "Enter the starting number: 1\n",
            "Enter the ending number: 10\n",
            "1 2 3 5 7  \n",
            "Total prime numbers between 1 and 10 are: 5\n"
          ]
        }
      ]
    },
    {
      "cell_type": "code",
      "source": [
        "n=int(input(\"enter the number\"))\n",
        "fib1=0\n",
        "fib2=1\n",
        "print(\"fibonacci series of the given number is\",n)\n",
        "print(fib1,fib2,end=\" \")\n",
        "for i in range(2,n):\n",
        "  fib3=fib1+fib2\n",
        "  print(fib3,end=\" \")\n",
        "  fib1=fib2\n",
        "  fib2=fib3\n"
      ],
      "metadata": {
        "colab": {
          "base_uri": "https://localhost:8080/"
        },
        "id": "1GjofUXJRXKJ",
        "outputId": "fb8ce22c-197d-46b5-b12c-cce45dd1caad"
      },
      "execution_count": null,
      "outputs": [
        {
          "output_type": "stream",
          "name": "stdout",
          "text": [
            "enter the number5\n",
            "fibonacci series of the given number is 5\n",
            "0 1 1 2 3 "
          ]
        }
      ]
    },
    {
      "cell_type": "markdown",
      "source": [
        "#1.Write a python program to find the 2 best of two average of 3 test marks accepted from the user\n",
        "#2.Develop a python program to convert a binary number into  decimal,hexadecimal , octal using functions\n",
        "#3.Define a function F as Fn = Fn-1 + Fn-2.write a python program which accepts a value for N (where N>0) as input and pass the value to the function .Display suitable error message if the condition for the input is not followed.\n",
        "#4.write a python program to find string similarity between to similar strings\n",
        "#5.Write a python program that accepts a sentence and finds the number of words , digits, uppercase letters and lower case letters\n",
        "#6.\n",
        "#*\n",
        "#**\n",
        "#***\n",
        "#****\n",
        "#*****\n",
        "\n",
        "#7.\n",
        "#    *\n",
        "#   **\n",
        "#  ***\n",
        "# ****\n",
        "#*****\n",
        "\n",
        "#8.\n",
        "#*****\n",
        "# ****\n",
        "#  ***\n",
        "#   **\n",
        "#    *\n",
        "\n",
        "\n",
        "#9.\n",
        "#*****\n",
        "#*****\n",
        "#*****\n",
        "#*****\n",
        "#*****\n",
        "\n",
        "#10.\n",
        "#1\n",
        "#22\n",
        "#333\n",
        "#4444\n",
        "#55555\n",
        "\n",
        "#11.\n",
        "#*****\n",
        "#*   *\n",
        "#*   *\n",
        "#*   *\n",
        "#*****\n",
        "\n",
        "#12\n",
        "#1 2 3 4\n",
        "#5 6 7 8\n",
        "#9 10 11 12\n",
        "#13 14 15 16\n",
        "\n",
        "#13.\n",
        "#AAAAA\n",
        "#AAAAA\n",
        "#AAAAA\n",
        "#AAAAA\n",
        "#AAAAA"
      ],
      "metadata": {
        "id": "m3WVl-cQXsx_"
      }
    },
    {
      "cell_type": "markdown",
      "source": [
        "\n",
        "\n",
        "###1.see the number of rows and apply a loop for it.\n",
        "###2.see the number of columns and apply a loop.\n",
        "###3.check for any relationship b/w rows and columns.\n",
        "###4.print the required character.\n",
        "###5.check for where to print spaces.\n",
        "\n"
      ],
      "metadata": {
        "id": "a2iSJn3WdlBJ"
      }
    },
    {
      "cell_type": "code",
      "source": [
        "#Pattern1.py\n",
        "n=int(input())\n",
        "for i in range(0,n):\n",
        "  for j in range(0,n):\n",
        "    print(\"*\",end=\" \")\n",
        "  print()"
      ],
      "metadata": {
        "colab": {
          "base_uri": "https://localhost:8080/"
        },
        "id": "qKTy4cjNfWv6",
        "outputId": "b31c8c04-e934-478c-fb4c-cbfc1f2462c7"
      },
      "execution_count": null,
      "outputs": [
        {
          "output_type": "stream",
          "name": "stdout",
          "text": [
            "10\n",
            "* * * * * * * * * * \n",
            "* * * * * * * * * * \n",
            "* * * * * * * * * * \n",
            "* * * * * * * * * * \n",
            "* * * * * * * * * * \n",
            "* * * * * * * * * * \n",
            "* * * * * * * * * * \n",
            "* * * * * * * * * * \n",
            "* * * * * * * * * * \n",
            "* * * * * * * * * * \n"
          ]
        }
      ]
    },
    {
      "cell_type": "code",
      "source": [
        "#Pattern2.py\n",
        "n=int(input())\n",
        "for i in range(0,5):\n",
        "  for j in range(0,5):\n",
        "    if(j<=i):\n",
        "      print(\"*\",end=\" \")\n",
        "  print()"
      ],
      "metadata": {
        "colab": {
          "base_uri": "https://localhost:8080/"
        },
        "id": "bJ2qDJ5EiR9e",
        "outputId": "6f656f74-8d19-4560-9424-2fcb3b23d7eb"
      },
      "execution_count": null,
      "outputs": [
        {
          "output_type": "stream",
          "name": "stdout",
          "text": [
            "5\n",
            "* \n",
            "* * \n",
            "* * * \n",
            "* * * * \n",
            "* * * * * \n"
          ]
        }
      ]
    },
    {
      "cell_type": "code",
      "source": [
        "#Pattern2.py\n",
        "n=int(input())\n",
        "for j in range(0,5):\n",
        "  for i in range(0,5):\n",
        "    if(j<=i):\n",
        "      print(\"*\",end=\" \")\n",
        "  print()"
      ],
      "metadata": {
        "colab": {
          "base_uri": "https://localhost:8080/"
        },
        "id": "IBrO3JT1nMWt",
        "outputId": "f4f26658-8fb1-44b8-b4b2-af8c406a596d"
      },
      "execution_count": null,
      "outputs": [
        {
          "output_type": "stream",
          "name": "stdout",
          "text": [
            "5\n",
            "* * * * * \n",
            "* * * * \n",
            "* * * \n",
            "* * \n",
            "* \n"
          ]
        }
      ]
    },
    {
      "cell_type": "code",
      "source": [
        "#Pattern3.py\n",
        "n=int(input())\n",
        "for i in range(0,5):\n",
        "  for j in range(0,5):\n",
        "    if(j+i>n-1):\n",
        "      print(\"*\",end=\" \")\n",
        "    else:\n",
        "      print(\" \",end=\" \")\n",
        "\n",
        "  print()"
      ],
      "metadata": {
        "colab": {
          "base_uri": "https://localhost:8080/"
        },
        "id": "929tE4E0jJg_",
        "outputId": "9696f1b2-bb8b-40a6-9fbf-0bc37363dacf"
      },
      "execution_count": null,
      "outputs": [
        {
          "output_type": "stream",
          "name": "stdout",
          "text": [
            "5\n",
            "          \n",
            "        * \n",
            "      * * \n",
            "    * * * \n",
            "  * * * * \n"
          ]
        }
      ]
    },
    {
      "cell_type": "code",
      "source": [
        "#Pattern4.py\n",
        "n=int(input())\n",
        "for i in range(0,5):\n",
        "  for j in range(0,5):\n",
        "    if(j>=i):\n",
        "      print(\"*\",end=\" \")\n",
        "    else:\n",
        "      print(\" \",end=\" \")\n",
        "\n",
        "  print()"
      ],
      "metadata": {
        "colab": {
          "base_uri": "https://localhost:8080/"
        },
        "id": "_DmHZDQgmFp6",
        "outputId": "ea5f6dc1-9d19-4a71-c3be-ca4fec240888"
      },
      "execution_count": null,
      "outputs": [
        {
          "output_type": "stream",
          "name": "stdout",
          "text": [
            "5\n",
            "* * * * * \n",
            "  * * * * \n",
            "    * * * \n",
            "      * * \n",
            "        * \n"
          ]
        }
      ]
    },
    {
      "cell_type": "code",
      "source": [
        "n=int(input())\n",
        "for i in range(n):\n",
        "  for j in range(n):\n",
        "    if(j<=i):\n",
        "      print(i,end=\" \")\n",
        "  print()\n"
      ],
      "metadata": {
        "colab": {
          "base_uri": "https://localhost:8080/"
        },
        "id": "hZwWIzkm-MOU",
        "outputId": "7431646e-19e4-45a9-b91d-130a59a3305e"
      },
      "execution_count": null,
      "outputs": [
        {
          "output_type": "stream",
          "name": "stdout",
          "text": [
            "5\n",
            "0 \n",
            "1 1 \n",
            "2 2 2 \n",
            "3 3 3 3 \n",
            "4 4 4 4 4 \n"
          ]
        }
      ]
    },
    {
      "cell_type": "code",
      "source": [
        "n=int(input())\n",
        "for i in range(n):\n",
        "  for j in range(n):\n",
        "    if i==0 or i==n-1 or j==0 or j==n-1:\n",
        "      print(\"*\",end=\" \")\n",
        "    else:\n",
        "      print(\" \",end=\" \")\n",
        "  print()"
      ],
      "metadata": {
        "colab": {
          "base_uri": "https://localhost:8080/"
        },
        "id": "JFosnMp_-_ed",
        "outputId": "3e94fc93-af49-439f-bb91-2219d35ceeb1"
      },
      "execution_count": null,
      "outputs": [
        {
          "output_type": "stream",
          "name": "stdout",
          "text": [
            "5\n",
            "* * * * * \n",
            "*       * \n",
            "*       * \n",
            "*       * \n",
            "* * * * * \n"
          ]
        }
      ]
    },
    {
      "cell_type": "code",
      "source": [
        "n=int(input())\n",
        "for i in range(n):\n",
        "  for j in range(n):\n",
        "    if i==0 or i==n-1 or j==0 or j==n-1 or i==j or i+j==n-1:\n",
        "      print(\"*\",end=\" \")\n",
        "    else:\n",
        "      print(\" \",end=\" \")\n",
        "  print()"
      ],
      "metadata": {
        "colab": {
          "base_uri": "https://localhost:8080/"
        },
        "id": "VD0EQeDYCWYr",
        "outputId": "e8fdb776-53f5-4dd4-fb6a-26b27724b45c"
      },
      "execution_count": null,
      "outputs": [
        {
          "output_type": "stream",
          "name": "stdout",
          "text": [
            "5\n",
            "* * * * * \n",
            "* *   * * \n",
            "*   *   * \n",
            "* *   * * \n",
            "* * * * * \n"
          ]
        }
      ]
    },
    {
      "cell_type": "code",
      "source": [
        "n=int(input())\n",
        "k=input()\n",
        "for i in range(n):\n",
        "  for j in range(n):\n",
        "    print(k,end=\" \")\n",
        "  print()"
      ],
      "metadata": {
        "colab": {
          "base_uri": "https://localhost:8080/"
        },
        "id": "mFHL3YytDibG",
        "outputId": "16202ebe-1a8b-45eb-b07a-dff2395830cb"
      },
      "execution_count": null,
      "outputs": [
        {
          "output_type": "stream",
          "name": "stdout",
          "text": [
            "5\n",
            "qwerty\n",
            "qwerty qwerty qwerty qwerty qwerty \n",
            "qwerty qwerty qwerty qwerty qwerty \n",
            "qwerty qwerty qwerty qwerty qwerty \n",
            "qwerty qwerty qwerty qwerty qwerty \n",
            "qwerty qwerty qwerty qwerty qwerty \n"
          ]
        }
      ]
    },
    {
      "cell_type": "code",
      "source": [
        "n=int(input())\n",
        "k=1\n",
        "for i in range(n):\n",
        "  for j in range(n):\n",
        "    print(k,end=\" \")\n",
        "    k=k+1\n",
        "  print()"
      ],
      "metadata": {
        "colab": {
          "base_uri": "https://localhost:8080/"
        },
        "id": "hNkHZmQWE88d",
        "outputId": "a107c0c4-6e8b-4d36-f714-852d8fa90d81"
      },
      "execution_count": null,
      "outputs": [
        {
          "output_type": "stream",
          "name": "stdout",
          "text": [
            "5\n",
            "1 2 3 4 5 \n",
            "6 7 8 9 10 \n",
            "11 12 13 14 15 \n",
            "16 17 18 19 20 \n",
            "21 22 23 24 25 \n"
          ]
        }
      ]
    },
    {
      "cell_type": "code",
      "source": [
        "num = int(input(\"Enter a number: \"))\n",
        "factorial = 1\n",
        "if num<0:\n",
        "    print(\"Sorry, factorial does not exist for negative numbers\")\n",
        "elif num==0:\n",
        "    print(\"The factorial of 0 is 1\")\n",
        "else:\n",
        "    for i in range(1,num + 1):\n",
        "      factorial = factorial*i\n",
        "print(\"The factorial of\",num,\"is\",factorial)"
      ],
      "metadata": {
        "colab": {
          "base_uri": "https://localhost:8080/"
        },
        "id": "fbHQpNTlGOtY",
        "outputId": "732d2535-87df-4542-aba5-2b3195955ea9"
      },
      "execution_count": null,
      "outputs": [
        {
          "output_type": "stream",
          "name": "stdout",
          "text": [
            "Enter a number: 10\n",
            "The factorial of 10 is 3628800\n"
          ]
        }
      ]
    },
    {
      "cell_type": "markdown",
      "source": [
        "# **write a program to implement the logic to remove the character which are at the odd numbers of the index**"
      ],
      "metadata": {
        "id": "VMkQ8cOMJIqO"
      }
    },
    {
      "cell_type": "code",
      "source": [
        "s=input(\" \")\n",
        "a=\" \"\n",
        "for i in range(len(s)):\n",
        "  if i%2==0:\n",
        "    a=a+s[i]\n",
        "print(a)"
      ],
      "metadata": {
        "colab": {
          "base_uri": "https://localhost:8080/"
        },
        "id": "39o498voISxo",
        "outputId": "d441f11c-fbca-4d60-c59b-4f22707db628"
      },
      "execution_count": null,
      "outputs": [
        {
          "output_type": "stream",
          "name": "stdout",
          "text": [
            " qwertyuiop\n",
            " qetuo\n"
          ]
        }
      ]
    },
    {
      "cell_type": "code",
      "source": [
        "#write aprogram to swap 2 number using a third variable\n",
        "a=int(input(\"enter the number a=\"))\n",
        "b=int(input(\"enter the number b=\"))\n",
        "c=a\n",
        "a=b\n",
        "b=c\n",
        "print(\"a=\",a)\n",
        "print(\"b=\",b)"
      ],
      "metadata": {
        "colab": {
          "base_uri": "https://localhost:8080/"
        },
        "id": "AVhlE9dPMetO",
        "outputId": "45beb906-a651-4540-bddb-7bc551013c62"
      },
      "execution_count": null,
      "outputs": [
        {
          "output_type": "stream",
          "name": "stdout",
          "text": [
            "enter the number a=21324\n",
            "enter the number b=1\n",
            "a= 1\n",
            "b= 21324\n"
          ]
        }
      ]
    },
    {
      "cell_type": "code",
      "source": [
        "a=int(input(\"enter the number a=\"))\n",
        "b=int(input(\"enter the number b=\"))\n",
        "a=a+b\n",
        "b=a-b\n",
        "a=a-b\n",
        "print(\"a=\",a)\n",
        "print(\"b=\",b)"
      ],
      "metadata": {
        "colab": {
          "base_uri": "https://localhost:8080/"
        },
        "id": "Tb2LgmxQM9DX",
        "outputId": "a4c450a4-7c13-48f0-b1da-20a3dbfacf3d"
      },
      "execution_count": null,
      "outputs": [
        {
          "output_type": "stream",
          "name": "stdout",
          "text": [
            "enter the number a=5\n",
            "enter the number b=10\n",
            "a= 10\n",
            "b= 5\n"
          ]
        }
      ]
    },
    {
      "cell_type": "markdown",
      "source": [
        "\n",
        "1.   write a python program to find smallest number in a\n",
        "2. count the number of occurances of a given item in the list\n",
        "2.   write a program to count unique values in the list\n",
        "3.   find out the duplicate removal list product using list comprehension\n",
        "4. write a program to extract elements with frequency greater  than k\n",
        "5.write a program to test if a list contains elements in the range\n",
        "6.write a program  to demonstrate list intersection and\n",
        "7. write a  program to mearge 2 sorted list into a single sorted list\n",
        "8. find the largest subarray sum of a given list\n",
        "9.write a program to partion a list around the given value such that all elements less than the given value come befor it and all elements greater than the given value come after it\n",
        "10.**(Interview quesion)**find the peak elements int he list of integers, peak element is an elements that is grester than or equal to its neighbours\n",
        "\n"
      ],
      "metadata": {
        "id": "ylIs4DpzQO2P"
      }
    },
    {
      "cell_type": "code",
      "source": [
        "#count the number of occurances of a given item in the list\n",
        "\n",
        "num=int(input(\"enter the number\"))\n",
        "count=0\n",
        "list=[100,20 ,10,10,10,30,40,50]\n",
        "for i in list:\n",
        "  if i==num:\n",
        "    count+=1\n",
        "print(count)"
      ],
      "metadata": {
        "colab": {
          "base_uri": "https://localhost:8080/"
        },
        "id": "A-pTywLYTL3h",
        "outputId": "226d847f-b4df-400a-b0ea-a67abb806b09"
      },
      "execution_count": null,
      "outputs": [
        {
          "output_type": "stream",
          "name": "stdout",
          "text": [
            "enter the number10\n",
            "3\n"
          ]
        }
      ]
    },
    {
      "cell_type": "code",
      "source": [
        "#2. count the number of occurances of a given item in the list\n",
        "list=[100,20 ,10,10,10,30,30,13,15,11,24,40,50]\n",
        "count=0\n",
        "unique_list=[]\n",
        "for i in list:\n",
        "  if i not in unique_list:\n",
        "    unique_list.append(i)\n",
        "    count+=1\n",
        "print(count)\n",
        "print(unique_list)\n"
      ],
      "metadata": {
        "colab": {
          "base_uri": "https://localhost:8080/"
        },
        "id": "HAFZrpCZVh0n",
        "outputId": "c4c38e45-84da-42d0-8bff-3e6f751316be"
      },
      "execution_count": null,
      "outputs": [
        {
          "output_type": "stream",
          "name": "stdout",
          "text": [
            "10\n",
            "[100, 20, 10, 30, 13, 15, 11, 24, 40, 50]\n"
          ]
        }
      ]
    },
    {
      "cell_type": "code",
      "source": [
        "#find out the duplicate removal list product using list comprehension\n",
        "def duplicate_removal(list):\n",
        "  unique_list=[]\n",
        "  for i in list:\n",
        "    if i not in unique_list:\n",
        "      unique_list.append(i)\n",
        "  return unique_list\n",
        "list=[100,20 ,10,10,10,30,30,13,15,11,24,40,50]\n",
        "print(duplicate_removal(list))"
      ],
      "metadata": {
        "colab": {
          "base_uri": "https://localhost:8080/"
        },
        "id": "86a-yKFNY8-Z",
        "outputId": "b9351807-49f4-4db6-cd9c-68e9c56e7f1d"
      },
      "execution_count": null,
      "outputs": [
        {
          "output_type": "stream",
          "name": "stdout",
          "text": [
            "[100, 20, 10, 30, 13, 15, 11, 24, 40, 50]\n"
          ]
        }
      ]
    },
    {
      "cell_type": "code",
      "source": [
        "def prod(val):\n",
        "  res =1\n",
        "  for ele in val:\n",
        "    res=res*ele\n",
        "  return prod\n",
        "test_list=[1,2,3,4,5]\n",
        "print(\"original list = \"+ str(test_list))\n",
        "res=[]\n",
        "[res.append(x) for x in test_list if x not in res]\n",
        "product=prod(res)\n",
        "print(\"list after removing duplicates = \"+ str(product))\n",
        "\n"
      ],
      "metadata": {
        "colab": {
          "base_uri": "https://localhost:8080/"
        },
        "id": "1WsTCE5qZk5O",
        "outputId": "d3feb160-baa8-46fb-ad7b-273391dea3a7"
      },
      "execution_count": null,
      "outputs": [
        {
          "output_type": "stream",
          "name": "stdout",
          "text": [
            "original list = [1, 2, 3, 4, 5]\n",
            "list after removing duplicates = <function prod at 0x7d332df87910>\n"
          ]
        }
      ]
    },
    {
      "cell_type": "code",
      "source": [
        "li=[8,9,8,9,8,8,5,5,4,5]\n",
        "k=int(input(\"enter the number\"))\n",
        "count=0\n",
        "new_list=[]\n",
        "for i in li:\n",
        "  freq=li.count(i)\n",
        "  if freq>k and i not in new_list:\n",
        "\n",
        "    new_list.append(i)\n",
        "print(new_list)\n",
        "\n"
      ],
      "metadata": {
        "colab": {
          "base_uri": "https://localhost:8080/"
        },
        "id": "tPyxHjAQd4pu",
        "outputId": "fffb5ec9-dc62-4d78-bc48-7238edf541de"
      },
      "execution_count": null,
      "outputs": [
        {
          "output_type": "stream",
          "name": "stdout",
          "text": [
            "enter the number2\n",
            "[8, 5]\n"
          ]
        }
      ]
    },
    {
      "cell_type": "code",
      "source": [
        "#write a program to test if a list contains elements in the range\n",
        "range1=int(input(\"enter the range1 =1\"))\n",
        "range2=int(input(\"enter the range2 =\"))\n",
        "list=[100,20 ,10,10,10,30,30,13,15,11,24,40,50,99,80]\n",
        "for i in list:\n",
        "  if i>=range1 and i<=range2:\n",
        "    print(i)"
      ],
      "metadata": {
        "colab": {
          "base_uri": "https://localhost:8080/"
        },
        "id": "MdfHMHfJhCeR",
        "outputId": "548dbd8b-32ed-4e66-c655-77cf5901bb20"
      },
      "execution_count": null,
      "outputs": [
        {
          "output_type": "stream",
          "name": "stdout",
          "text": [
            "enter the range1 =55\n",
            "enter the range2 =100\n",
            "100\n",
            "99\n",
            "80\n"
          ]
        }
      ]
    },
    {
      "cell_type": "code",
      "source": [
        "#intersection list\n",
        "def list_intsec(lst1,lst2):\n",
        "  return list(set(lst1) & set(lst2))\n",
        "\n",
        "list1=[10,20,30,40]\n",
        "list2=[20,10,50,60]\n",
        "\n",
        "print(\"Intersection\",list_intsec(list1,list2))\n",
        "\n"
      ],
      "metadata": {
        "id": "xT2_fyUNrLsr"
      },
      "execution_count": null,
      "outputs": []
    },
    {
      "cell_type": "code",
      "source": [
        "i=j=0\n",
        "while(i<len(list1) and j<len(list2)):\n",
        "  if list1[i]<list2[j]:\n",
        "    m.append(list1[i])\n",
        "    i+=1\n",
        "  else:\n",
        "    m.append(list2[j])\n",
        "    j+=1\n",
        "m.append(list1[i:])\n",
        "m.append(list2[j:])"
      ],
      "metadata": {
        "colab": {
          "base_uri": "https://localhost:8080/",
          "height": 211
        },
        "id": "E5iU8FyUt3N2",
        "outputId": "14097c0f-b2c5-4c0e-d611-9fe27336a44b"
      },
      "execution_count": 50,
      "outputs": [
        {
          "output_type": "error",
          "ename": "NameError",
          "evalue": "name 'm' is not defined",
          "traceback": [
            "\u001b[0;31m---------------------------------------------------------------------------\u001b[0m",
            "\u001b[0;31mNameError\u001b[0m                                 Traceback (most recent call last)",
            "\u001b[0;32m<ipython-input-50-0374424579bc>\u001b[0m in \u001b[0;36m<cell line: 2>\u001b[0;34m()\u001b[0m\n\u001b[1;32m      2\u001b[0m \u001b[0;32mwhile\u001b[0m\u001b[0;34m(\u001b[0m\u001b[0mi\u001b[0m\u001b[0;34m<\u001b[0m\u001b[0mlen\u001b[0m\u001b[0;34m(\u001b[0m\u001b[0mlist1\u001b[0m\u001b[0;34m)\u001b[0m \u001b[0;32mand\u001b[0m \u001b[0mj\u001b[0m\u001b[0;34m<\u001b[0m\u001b[0mlen\u001b[0m\u001b[0;34m(\u001b[0m\u001b[0mlist2\u001b[0m\u001b[0;34m)\u001b[0m\u001b[0;34m)\u001b[0m\u001b[0;34m:\u001b[0m\u001b[0;34m\u001b[0m\u001b[0;34m\u001b[0m\u001b[0m\n\u001b[1;32m      3\u001b[0m   \u001b[0;32mif\u001b[0m \u001b[0mlist1\u001b[0m\u001b[0;34m[\u001b[0m\u001b[0mi\u001b[0m\u001b[0;34m]\u001b[0m\u001b[0;34m<\u001b[0m\u001b[0mlist2\u001b[0m\u001b[0;34m[\u001b[0m\u001b[0mj\u001b[0m\u001b[0;34m]\u001b[0m\u001b[0;34m:\u001b[0m\u001b[0;34m\u001b[0m\u001b[0;34m\u001b[0m\u001b[0m\n\u001b[0;32m----> 4\u001b[0;31m     \u001b[0mm\u001b[0m\u001b[0;34m.\u001b[0m\u001b[0mappend\u001b[0m\u001b[0;34m(\u001b[0m\u001b[0mlist1\u001b[0m\u001b[0;34m[\u001b[0m\u001b[0mi\u001b[0m\u001b[0;34m]\u001b[0m\u001b[0;34m)\u001b[0m\u001b[0;34m\u001b[0m\u001b[0;34m\u001b[0m\u001b[0m\n\u001b[0m\u001b[1;32m      5\u001b[0m     \u001b[0mi\u001b[0m\u001b[0;34m+=\u001b[0m\u001b[0;36m1\u001b[0m\u001b[0;34m\u001b[0m\u001b[0;34m\u001b[0m\u001b[0m\n\u001b[1;32m      6\u001b[0m   \u001b[0;32melse\u001b[0m\u001b[0;34m:\u001b[0m\u001b[0;34m\u001b[0m\u001b[0;34m\u001b[0m\u001b[0m\n",
            "\u001b[0;31mNameError\u001b[0m: name 'm' is not defined"
          ]
        }
      ]
    },
    {
      "cell_type": "code",
      "source": [
        "def partition_list(list,pivot):\n",
        "  less_than =[x for x in list if x<pivot]\n",
        "  greater_than=[x for x in list if x>pivot]\n",
        "  equal_to=[x for x in list if x==pivot]\n",
        "  return less_than+equal_to+greater_than\n",
        "my_list =[3,1,4,1,5,9,2,6,5]\n",
        "pivot_value =4\n",
        "print(\"partitioned list :\",partition_list(my_list,pivot_value))"
      ],
      "metadata": {
        "colab": {
          "base_uri": "https://localhost:8080/"
        },
        "id": "f6unnIFQZeNc",
        "outputId": "b58feb04-33b5-4a09-9561-99a081a4f3ac"
      },
      "execution_count": 1,
      "outputs": [
        {
          "output_type": "stream",
          "name": "stdout",
          "text": [
            "partitioned list : [3, 1, 1, 2, 4, 5, 9, 6, 5]\n"
          ]
        }
      ]
    },
    {
      "cell_type": "code",
      "source": [],
      "metadata": {
        "id": "dKddF0YJbMyy"
      },
      "execution_count": null,
      "outputs": []
    }
  ]
}