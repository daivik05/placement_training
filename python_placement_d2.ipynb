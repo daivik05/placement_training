{
  "nbformat": 4,
  "nbformat_minor": 0,
  "metadata": {
    "colab": {
      "provenance": [],
      "authorship_tag": "ABX9TyMLHzjxfpsrsVrUcHv0cPcJ",
      "include_colab_link": true
    },
    "kernelspec": {
      "name": "python3",
      "display_name": "Python 3"
    },
    "language_info": {
      "name": "python"
    }
  },
  "cells": [
    {
      "cell_type": "markdown",
      "metadata": {
        "id": "view-in-github",
        "colab_type": "text"
      },
      "source": [
        "<a href=\"https://colab.research.google.com/github/daivik05/placement_training/blob/main/python_placement_d2.ipynb\" target=\"_parent\"><img src=\"https://colab.research.google.com/assets/colab-badge.svg\" alt=\"Open In Colab\"/></a>"
      ]
    },
    {
      "cell_type": "code",
      "execution_count": null,
      "metadata": {
        "id": "lrpcGXl38cmS",
        "colab": {
          "base_uri": "https://localhost:8080/"
        },
        "outputId": "9af8f88d-0e42-4edd-f910-5322eee3bcf7"
      },
      "outputs": [
        {
          "output_type": "stream",
          "name": "stdout",
          "text": [
            "enter the primenumber3\n",
            "prime\n"
          ]
        }
      ],
      "source": [
        "num= int(input(\"enter the primenumber\"))\n",
        "for i in range(2,num):\n",
        "  if num%i==0:\n",
        "    print(\"not prime\")\n",
        "    break\n",
        "else:\n",
        "  print(\"prime\")"
      ]
    },
    {
      "cell_type": "code",
      "source": [
        "def factorial(n):\n",
        "  if n == 0:\n",
        "    return 1\n",
        "  else:\n",
        "    return n * factorial(n-1)\n",
        "factorial(5)\n"
      ],
      "metadata": {
        "colab": {
          "base_uri": "https://localhost:8080/"
        },
        "id": "aupEbCbM8jnR",
        "outputId": "3cfd6e30-7336-47fe-ff71-f6feb90e9fd7"
      },
      "execution_count": null,
      "outputs": [
        {
          "output_type": "execute_result",
          "data": {
            "text/plain": [
              "120"
            ]
          },
          "metadata": {},
          "execution_count": 9
        }
      ]
    },
    {
      "cell_type": "code",
      "source": [
        "num = int(input(\"Enter a number: \"))\n",
        "for i in range(1, 11):\n",
        "  product = num * i\n",
        "  print(f\"{num} x {i} = {product}\")\n"
      ],
      "metadata": {
        "colab": {
          "base_uri": "https://localhost:8080/"
        },
        "id": "fqKCa4W4S-te",
        "outputId": "b7549c7f-4bbf-415f-e2f8-7e1bd343eaa7"
      },
      "execution_count": null,
      "outputs": [
        {
          "output_type": "stream",
          "name": "stdout",
          "text": [
            "Enter a number: 10\n",
            "10 x 1 = 10\n",
            "10 x 2 = 20\n",
            "10 x 3 = 30\n",
            "10 x 4 = 40\n",
            "10 x 5 = 50\n",
            "10 x 6 = 60\n",
            "10 x 7 = 70\n",
            "10 x 8 = 80\n",
            "10 x 9 = 90\n",
            "10 x 10 = 100\n"
          ]
        }
      ]
    },
    {
      "cell_type": "code",
      "source": [
        "sum=0\n",
        "num=int(input('enter the number'))\n",
        "temp=num\n",
        "while(num):\n",
        "  i=1\n",
        "  f=1\n",
        "  r=num%10\n",
        "  while(i<=r):\n",
        "    f=f*i\n",
        "    i=i+1\n",
        "  sum=sum+f\n",
        "  num=num//10\n",
        "if(temp==sum):\n",
        "  print(\"strong num\")\n",
        "else:\n",
        "  print(\"no strong num\")"
      ],
      "metadata": {
        "colab": {
          "base_uri": "https://localhost:8080/"
        },
        "id": "92CoqGl3B8TJ",
        "outputId": "39bf1cc8-38a6-4b0a-e2ad-a5f34b20168a"
      },
      "execution_count": null,
      "outputs": [
        {
          "output_type": "stream",
          "name": "stdout",
          "text": [
            "enter the number56\n",
            "no strong num\n"
          ]
        }
      ]
    },
    {
      "cell_type": "code",
      "source": [
        "num = int(input(\"Enter a number: \"))\n",
        "order= len(str(num))\n",
        "sum=0\n",
        "temp = num\n",
        "while temp > 0:\n",
        "   digit = temp % 10\n",
        "   sum += digit ** order\n",
        "   temp //= 10\n",
        "if num == sum:\n",
        "   print(num,\"is an Armstrong number\")\n",
        "else:\n",
        "   print(num,\"is not an Armstrong number\")"
      ],
      "metadata": {
        "colab": {
          "base_uri": "https://localhost:8080/"
        },
        "id": "alFc5wgPMgl8",
        "outputId": "5c5df880-0485-43c2-f783-55793a1bfbc2"
      },
      "execution_count": null,
      "outputs": [
        {
          "output_type": "stream",
          "name": "stdout",
          "text": [
            "Enter a number: 153\n",
            "153 is an Armstrong number\n"
          ]
        }
      ]
    },
    {
      "cell_type": "code",
      "source": [
        "num = int(input(\"Enter a number: \"))\n",
        "square = num * num\n",
        "sum = 0\n",
        "while square > 0:\n",
        "  sum += square % 10\n",
        "  square //= 10\n",
        "if sum == num:\n",
        "  print(num, \"is a Neon number\")\n",
        "else:\n",
        "  print(num, \"is not a Neon number\")\n"
      ],
      "metadata": {
        "colab": {
          "base_uri": "https://localhost:8080/"
        },
        "id": "3fjySuzsOVz6",
        "outputId": "4dd500e0-888b-433a-e664-936817f76cf6"
      },
      "execution_count": null,
      "outputs": [
        {
          "output_type": "stream",
          "name": "stdout",
          "text": [
            "Enter a number: 9\n",
            "9 is a Neon number\n"
          ]
        }
      ]
    },
    {
      "cell_type": "code",
      "source": [
        "num=int(input(\"enter the number\"))\n",
        "temp=num\n",
        "sum=0\n",
        "product=1\n",
        "while(num>0):\n",
        "  r=num%10\n",
        "  sum=sum+r\n",
        "  product=product*r\n",
        "  num=num//10\n",
        "if(sum==product):\n",
        "  print(\"spy number\")\n",
        "else:\n",
        "  print(\"not spy number\")"
      ],
      "metadata": {
        "colab": {
          "base_uri": "https://localhost:8080/"
        },
        "id": "HzAN6lP2UqM1",
        "outputId": "07ed7666-c26e-430b-a331-477f2be9c8bb"
      },
      "execution_count": null,
      "outputs": [
        {
          "output_type": "stream",
          "name": "stdout",
          "text": [
            "enter the number1\n",
            "spy number\n"
          ]
        }
      ]
    },
    {
      "cell_type": "code",
      "source": [
        "num=int(input(\"enter the number\"))\n",
        "temp=num\n",
        "sum=0\n",
        "while(num!=0):\n",
        "  r=num%10\n",
        "  sum=sum+r*r\n",
        "  num=num//10\n",
        "  print(sum)\n",
        "if(temp==1):\n",
        "  print(\"happy number\")\n",
        "else:\n",
        "  print(\"not happy number\")"
      ],
      "metadata": {
        "colab": {
          "base_uri": "https://localhost:8080/"
        },
        "id": "MR8RjMMK7B1C",
        "outputId": "e26a0bc1-e978-4a50-f0a8-5ac2b903a45e"
      },
      "execution_count": null,
      "outputs": [
        {
          "output_type": "stream",
          "name": "stdout",
          "text": [
            "enter the number19\n",
            "81\n",
            "82\n",
            "not happy number\n"
          ]
        }
      ]
    },
    {
      "cell_type": "code",
      "source": [
        "num=int(input(\"enter the number\"))\n",
        "temp=num\n",
        "while(temp!=1 and temp!=4):\n",
        "  sum=0\n",
        "  while(temp>0):\n",
        "    r=temp%10\n",
        "    sum=sum+r\n",
        "    temp=temp//10\n",
        "  temp=sum\n",
        "if(temp==1):\n",
        "  print(\"happy number\")\n",
        "else:\n",
        "  print(\"not happy number\")"
      ],
      "metadata": {
        "colab": {
          "base_uri": "https://localhost:8080/"
        },
        "id": "i2KCrMUhHSB8",
        "outputId": "44008bbc-9fd3-4cd7-b006-bd3f14c03af5"
      },
      "execution_count": null,
      "outputs": [
        {
          "output_type": "stream",
          "name": "stdout",
          "text": [
            "enter the number19\n",
            "happy number\n"
          ]
        }
      ]
    },
    {
      "cell_type": "code",
      "source": [
        "start = int(input(\"Enter the starting number: \"))\n",
        "end = int(input(\"Enter the ending number: \"))\n",
        "count=0\n",
        "for num in range(start, end + 1):\n",
        "  for i in range(2, num):\n",
        "    if num % i == 0:\n",
        "      break\n",
        "  else:\n",
        "    print(num, end=\" \")\n",
        "    count+=1\n",
        "print(\" \")\n",
        "print(\"Total prime numbers between\", start, \"and\", end, \"are:\", count)"
      ],
      "metadata": {
        "colab": {
          "base_uri": "https://localhost:8080/"
        },
        "id": "YK8-5-82KrB6",
        "outputId": "32e9f9b0-3823-4063-f318-8b8ff2611237"
      },
      "execution_count": null,
      "outputs": [
        {
          "output_type": "stream",
          "name": "stdout",
          "text": [
            "Enter the starting number: 1\n",
            "Enter the ending number: 10\n",
            "1 2 3 5 7  \n",
            "Total prime numbers between 1 and 10 are: 5\n"
          ]
        }
      ]
    },
    {
      "cell_type": "code",
      "source": [
        "n=int(input(\"enter the number\"))\n",
        "fib1=0\n",
        "fib2=1\n",
        "print(\"fibonacci series of the given number is\",n)\n",
        "print(fib1,fib2,end=\" \")\n",
        "for i in range(2,n):\n",
        "  fib3=fib1+fib2\n",
        "  print(fib3,end=\" \")\n",
        "  fib1=fib2\n",
        "  fib2=fib3\n"
      ],
      "metadata": {
        "colab": {
          "base_uri": "https://localhost:8080/"
        },
        "id": "1GjofUXJRXKJ",
        "outputId": "fb8ce22c-197d-46b5-b12c-cce45dd1caad"
      },
      "execution_count": null,
      "outputs": [
        {
          "output_type": "stream",
          "name": "stdout",
          "text": [
            "enter the number5\n",
            "fibonacci series of the given number is 5\n",
            "0 1 1 2 3 "
          ]
        }
      ]
    },
    {
      "cell_type": "markdown",
      "source": [
        "#1.Write a python program to find the 2 best of two average of 3 test marks accepted from the user\n",
        "#2.Develop a python program to convert a binary number into  decimal,hexadecimal , octal using functions\n",
        "#3.Define a function F as Fn = Fn-1 + Fn-2.write a python program which accepts a value for N (where N>0) as input and pass the value to the function .Display suitable error message if the condition for the input is not followed.\n",
        "#4.write a python program to find string similarity between to similar strings\n",
        "#5.Write a python program that accepts a sentence and finds the number of words , digits, uppercase letters and lower case letters\n",
        "#6.\n",
        "#*\n",
        "#**\n",
        "#***\n",
        "#****\n",
        "#*****\n",
        "\n",
        "#7.\n",
        "#    *\n",
        "#   **\n",
        "#  ***\n",
        "# ****\n",
        "#*****\n",
        "\n",
        "#8.\n",
        "#*****\n",
        "# ****\n",
        "#  ***\n",
        "#   **\n",
        "#    *\n",
        "\n",
        "\n",
        "#9.\n",
        "#*****\n",
        "#*****\n",
        "#*****\n",
        "#*****\n",
        "#*****\n",
        "\n",
        "#10.\n",
        "#1\n",
        "#22\n",
        "#333\n",
        "#4444\n",
        "#55555\n",
        "\n",
        "#11.\n",
        "#*****\n",
        "#*   *\n",
        "#*   *\n",
        "#*   *\n",
        "#*****\n",
        "\n",
        "#12\n",
        "#1 2 3 4\n",
        "#5 6 7 8\n",
        "#9 10 11 12\n",
        "#13 14 15 16\n",
        "\n",
        "#13.\n",
        "#AAAAA\n",
        "#AAAAA\n",
        "#AAAAA\n",
        "#AAAAA\n",
        "#AAAAA"
      ],
      "metadata": {
        "id": "m3WVl-cQXsx_"
      }
    },
    {
      "cell_type": "markdown",
      "source": [
        "\n",
        "\n",
        "###1.see the number of rows and apply a loop for it.\n",
        "###2.see the number of columns and apply a loop.\n",
        "###3.check for any relationship b/w rows and columns.\n",
        "###4.print the required character.\n",
        "###5.check for where to print spaces.\n",
        "\n"
      ],
      "metadata": {
        "id": "a2iSJn3WdlBJ"
      }
    },
    {
      "cell_type": "code",
      "source": [
        "#Pattern1.py\n",
        "n=int(input())\n",
        "for i in range(0,n):\n",
        "  for j in range(0,n):\n",
        "    print(\"*\",end=\" \")\n",
        "  print()"
      ],
      "metadata": {
        "colab": {
          "base_uri": "https://localhost:8080/"
        },
        "id": "qKTy4cjNfWv6",
        "outputId": "b31c8c04-e934-478c-fb4c-cbfc1f2462c7"
      },
      "execution_count": null,
      "outputs": [
        {
          "output_type": "stream",
          "name": "stdout",
          "text": [
            "10\n",
            "* * * * * * * * * * \n",
            "* * * * * * * * * * \n",
            "* * * * * * * * * * \n",
            "* * * * * * * * * * \n",
            "* * * * * * * * * * \n",
            "* * * * * * * * * * \n",
            "* * * * * * * * * * \n",
            "* * * * * * * * * * \n",
            "* * * * * * * * * * \n",
            "* * * * * * * * * * \n"
          ]
        }
      ]
    },
    {
      "cell_type": "code",
      "source": [
        "#Pattern2.py\n",
        "n=int(input())\n",
        "for i in range(0,5):\n",
        "  for j in range(0,5):\n",
        "    if(j<=i):\n",
        "      print(\"*\",end=\" \")\n",
        "  print()"
      ],
      "metadata": {
        "colab": {
          "base_uri": "https://localhost:8080/"
        },
        "id": "bJ2qDJ5EiR9e",
        "outputId": "6f656f74-8d19-4560-9424-2fcb3b23d7eb"
      },
      "execution_count": null,
      "outputs": [
        {
          "output_type": "stream",
          "name": "stdout",
          "text": [
            "5\n",
            "* \n",
            "* * \n",
            "* * * \n",
            "* * * * \n",
            "* * * * * \n"
          ]
        }
      ]
    },
    {
      "cell_type": "code",
      "source": [
        "#Pattern2.py\n",
        "n=int(input())\n",
        "for j in range(0,5):\n",
        "  for i in range(0,5):\n",
        "    if(j<=i):\n",
        "      print(\"*\",end=\" \")\n",
        "  print()"
      ],
      "metadata": {
        "colab": {
          "base_uri": "https://localhost:8080/"
        },
        "id": "IBrO3JT1nMWt",
        "outputId": "f4f26658-8fb1-44b8-b4b2-af8c406a596d"
      },
      "execution_count": null,
      "outputs": [
        {
          "output_type": "stream",
          "name": "stdout",
          "text": [
            "5\n",
            "* * * * * \n",
            "* * * * \n",
            "* * * \n",
            "* * \n",
            "* \n"
          ]
        }
      ]
    },
    {
      "cell_type": "code",
      "source": [
        "#Pattern3.py\n",
        "n=int(input())\n",
        "for i in range(0,5):\n",
        "  for j in range(0,5):\n",
        "    if(j+i>n-1):\n",
        "      print(\"*\",end=\" \")\n",
        "    else:\n",
        "      print(\" \",end=\" \")\n",
        "\n",
        "  print()"
      ],
      "metadata": {
        "colab": {
          "base_uri": "https://localhost:8080/"
        },
        "id": "929tE4E0jJg_",
        "outputId": "9696f1b2-bb8b-40a6-9fbf-0bc37363dacf"
      },
      "execution_count": null,
      "outputs": [
        {
          "output_type": "stream",
          "name": "stdout",
          "text": [
            "5\n",
            "          \n",
            "        * \n",
            "      * * \n",
            "    * * * \n",
            "  * * * * \n"
          ]
        }
      ]
    },
    {
      "cell_type": "code",
      "source": [
        "#Pattern4.py\n",
        "n=int(input())\n",
        "for i in range(0,5):\n",
        "  for j in range(0,5):\n",
        "    if(j>=i):\n",
        "      print(\"*\",end=\" \")\n",
        "    else:\n",
        "      print(\" \",end=\" \")\n",
        "\n",
        "  print()"
      ],
      "metadata": {
        "colab": {
          "base_uri": "https://localhost:8080/"
        },
        "id": "_DmHZDQgmFp6",
        "outputId": "ea5f6dc1-9d19-4a71-c3be-ca4fec240888"
      },
      "execution_count": null,
      "outputs": [
        {
          "output_type": "stream",
          "name": "stdout",
          "text": [
            "5\n",
            "* * * * * \n",
            "  * * * * \n",
            "    * * * \n",
            "      * * \n",
            "        * \n"
          ]
        }
      ]
    },
    {
      "cell_type": "code",
      "source": [
        "n=int(input())\n",
        "for i in range(n):\n",
        "  for j in range(n):\n",
        "    if(j<=i):\n",
        "      print(i,end=\" \")\n",
        "  print()\n"
      ],
      "metadata": {
        "colab": {
          "base_uri": "https://localhost:8080/"
        },
        "id": "hZwWIzkm-MOU",
        "outputId": "7431646e-19e4-45a9-b91d-130a59a3305e"
      },
      "execution_count": null,
      "outputs": [
        {
          "output_type": "stream",
          "name": "stdout",
          "text": [
            "5\n",
            "0 \n",
            "1 1 \n",
            "2 2 2 \n",
            "3 3 3 3 \n",
            "4 4 4 4 4 \n"
          ]
        }
      ]
    },
    {
      "cell_type": "code",
      "source": [
        "n=int(input())\n",
        "for i in range(n):\n",
        "  for j in range(n):\n",
        "    if i==0 or i==n-1 or j==0 or j==n-1:\n",
        "      print(\"*\",end=\" \")\n",
        "    else:\n",
        "      print(\" \",end=\" \")\n",
        "  print()"
      ],
      "metadata": {
        "colab": {
          "base_uri": "https://localhost:8080/"
        },
        "id": "JFosnMp_-_ed",
        "outputId": "3e94fc93-af49-439f-bb91-2219d35ceeb1"
      },
      "execution_count": null,
      "outputs": [
        {
          "output_type": "stream",
          "name": "stdout",
          "text": [
            "5\n",
            "* * * * * \n",
            "*       * \n",
            "*       * \n",
            "*       * \n",
            "* * * * * \n"
          ]
        }
      ]
    },
    {
      "cell_type": "code",
      "source": [
        "n=int(input())\n",
        "for i in range(n):\n",
        "  for j in range(n):\n",
        "    if i==0 or i==n-1 or j==0 or j==n-1 or i==j or i+j==n-1:\n",
        "      print(\"*\",end=\" \")\n",
        "    else:\n",
        "      print(\" \",end=\" \")\n",
        "  print()"
      ],
      "metadata": {
        "colab": {
          "base_uri": "https://localhost:8080/"
        },
        "id": "VD0EQeDYCWYr",
        "outputId": "e8fdb776-53f5-4dd4-fb6a-26b27724b45c"
      },
      "execution_count": null,
      "outputs": [
        {
          "output_type": "stream",
          "name": "stdout",
          "text": [
            "5\n",
            "* * * * * \n",
            "* *   * * \n",
            "*   *   * \n",
            "* *   * * \n",
            "* * * * * \n"
          ]
        }
      ]
    },
    {
      "cell_type": "code",
      "source": [
        "n=int(input())\n",
        "k=input()\n",
        "for i in range(n):\n",
        "  for j in range(n):\n",
        "    print(k,end=\" \")\n",
        "  print()"
      ],
      "metadata": {
        "colab": {
          "base_uri": "https://localhost:8080/"
        },
        "id": "mFHL3YytDibG",
        "outputId": "16202ebe-1a8b-45eb-b07a-dff2395830cb"
      },
      "execution_count": null,
      "outputs": [
        {
          "output_type": "stream",
          "name": "stdout",
          "text": [
            "5\n",
            "qwerty\n",
            "qwerty qwerty qwerty qwerty qwerty \n",
            "qwerty qwerty qwerty qwerty qwerty \n",
            "qwerty qwerty qwerty qwerty qwerty \n",
            "qwerty qwerty qwerty qwerty qwerty \n",
            "qwerty qwerty qwerty qwerty qwerty \n"
          ]
        }
      ]
    },
    {
      "cell_type": "code",
      "source": [
        "n=int(input())\n",
        "k=1\n",
        "for i in range(n):\n",
        "  for j in range(n):\n",
        "    print(k,end=\" \")\n",
        "    k=k+1\n",
        "  print()"
      ],
      "metadata": {
        "colab": {
          "base_uri": "https://localhost:8080/"
        },
        "id": "hNkHZmQWE88d",
        "outputId": "a107c0c4-6e8b-4d36-f714-852d8fa90d81"
      },
      "execution_count": null,
      "outputs": [
        {
          "output_type": "stream",
          "name": "stdout",
          "text": [
            "5\n",
            "1 2 3 4 5 \n",
            "6 7 8 9 10 \n",
            "11 12 13 14 15 \n",
            "16 17 18 19 20 \n",
            "21 22 23 24 25 \n"
          ]
        }
      ]
    },
    {
      "cell_type": "code",
      "source": [
        "num = int(input(\"Enter a number: \"))\n",
        "factorial = 1\n",
        "if num<0:\n",
        "    print(\"Sorry, factorial does not exist for negative numbers\")\n",
        "elif num==0:\n",
        "    print(\"The factorial of 0 is 1\")\n",
        "else:\n",
        "    for i in range(1,num + 1):\n",
        "      factorial = factorial*i\n",
        "print(\"The factorial of\",num,\"is\",factorial)"
      ],
      "metadata": {
        "colab": {
          "base_uri": "https://localhost:8080/"
        },
        "id": "fbHQpNTlGOtY",
        "outputId": "732d2535-87df-4542-aba5-2b3195955ea9"
      },
      "execution_count": null,
      "outputs": [
        {
          "output_type": "stream",
          "name": "stdout",
          "text": [
            "Enter a number: 10\n",
            "The factorial of 10 is 3628800\n"
          ]
        }
      ]
    },
    {
      "cell_type": "markdown",
      "source": [
        "# **write a program to implement the logic to remove the character which are at the odd numbers of the index**"
      ],
      "metadata": {
        "id": "VMkQ8cOMJIqO"
      }
    },
    {
      "cell_type": "code",
      "source": [
        "s=input(\" \")\n",
        "a=\" \"\n",
        "for i in range(len(s)):\n",
        "  if i%2==0:\n",
        "    a=a+s[i]\n",
        "print(a)"
      ],
      "metadata": {
        "colab": {
          "base_uri": "https://localhost:8080/"
        },
        "id": "39o498voISxo",
        "outputId": "d441f11c-fbca-4d60-c59b-4f22707db628"
      },
      "execution_count": null,
      "outputs": [
        {
          "output_type": "stream",
          "name": "stdout",
          "text": [
            " qwertyuiop\n",
            " qetuo\n"
          ]
        }
      ]
    },
    {
      "cell_type": "code",
      "source": [
        "#write aprogram to swap 2 number using a third variable\n",
        "a=int(input(\"enter the number a=\"))\n",
        "b=int(input(\"enter the number b=\"))\n",
        "c=a\n",
        "a=b\n",
        "b=c\n",
        "print(\"a=\",a)\n",
        "print(\"b=\",b)"
      ],
      "metadata": {
        "colab": {
          "base_uri": "https://localhost:8080/"
        },
        "id": "AVhlE9dPMetO",
        "outputId": "45beb906-a651-4540-bddb-7bc551013c62"
      },
      "execution_count": null,
      "outputs": [
        {
          "output_type": "stream",
          "name": "stdout",
          "text": [
            "enter the number a=21324\n",
            "enter the number b=1\n",
            "a= 1\n",
            "b= 21324\n"
          ]
        }
      ]
    },
    {
      "cell_type": "code",
      "source": [
        "a=int(input(\"enter the number a=\"))\n",
        "b=int(input(\"enter the number b=\"))\n",
        "a=a+b\n",
        "b=a-b\n",
        "a=a-b\n",
        "print(\"a=\",a)\n",
        "print(\"b=\",b)"
      ],
      "metadata": {
        "colab": {
          "base_uri": "https://localhost:8080/"
        },
        "id": "Tb2LgmxQM9DX",
        "outputId": "a4c450a4-7c13-48f0-b1da-20a3dbfacf3d"
      },
      "execution_count": null,
      "outputs": [
        {
          "output_type": "stream",
          "name": "stdout",
          "text": [
            "enter the number a=5\n",
            "enter the number b=10\n",
            "a= 10\n",
            "b= 5\n"
          ]
        }
      ]
    },
    {
      "cell_type": "markdown",
      "source": [
        "\n",
        "1.   write a python program to find smallest number in a\n",
        "2. count the number of occurances of a given item in the list\n",
        "2.   write a program to count unique values in the list\n",
        "3.   find out the duplicate removal list product using list comprehension\n",
        "4. write a program to extract elements with frequency greater  than k\n",
        "5.write a program to test if a list contains elements in the range\n",
        "6.write a program  to demonstrate list intersection and\n",
        "7. write a  program to mearge 2 sorted list into a single sorted list\n",
        "8. find the largest subarray sum of a given list\n",
        "9.write a program to partion a list around the given value such that all elements less than the given value come befor it and all elements greater than the given value come after it\n",
        "10.**(Interview quesion)**find the peak elements int he list of integers, peak element is an elements that is grester than or equal to its neighbours\n",
        "\n"
      ],
      "metadata": {
        "id": "ylIs4DpzQO2P"
      }
    },
    {
      "cell_type": "code",
      "source": [
        "#count the number of occurances of a given item in the list\n",
        "\n",
        "num=int(input(\"enter the number\"))\n",
        "count=0\n",
        "list=[100,20 ,10,10,10,30,40,50]\n",
        "for i in list:\n",
        "  if i==num:\n",
        "    count+=1\n",
        "print(count)"
      ],
      "metadata": {
        "colab": {
          "base_uri": "https://localhost:8080/"
        },
        "id": "A-pTywLYTL3h",
        "outputId": "226d847f-b4df-400a-b0ea-a67abb806b09"
      },
      "execution_count": null,
      "outputs": [
        {
          "output_type": "stream",
          "name": "stdout",
          "text": [
            "enter the number10\n",
            "3\n"
          ]
        }
      ]
    },
    {
      "cell_type": "code",
      "source": [
        "#2. count the number of occurances of a given item in the list\n",
        "list=[100,20 ,10,10,10,30,30,13,15,11,24,40,50]\n",
        "count=0\n",
        "unique_list=[]\n",
        "for i in list:\n",
        "  if i not in unique_list:\n",
        "    unique_list.append(i)\n",
        "    count+=1\n",
        "print(count)\n",
        "print(unique_list)\n"
      ],
      "metadata": {
        "colab": {
          "base_uri": "https://localhost:8080/"
        },
        "id": "HAFZrpCZVh0n",
        "outputId": "c4c38e45-84da-42d0-8bff-3e6f751316be"
      },
      "execution_count": null,
      "outputs": [
        {
          "output_type": "stream",
          "name": "stdout",
          "text": [
            "10\n",
            "[100, 20, 10, 30, 13, 15, 11, 24, 40, 50]\n"
          ]
        }
      ]
    },
    {
      "cell_type": "code",
      "source": [
        "#find out the duplicate removal list product using list comprehension\n",
        "def duplicate_removal(list):\n",
        "  unique_list=[]\n",
        "  for i in list:\n",
        "    if i not in unique_list:\n",
        "      unique_list.append(i)\n",
        "  return unique_list\n",
        "list=[100,20 ,10,10,10,30,30,13,15,11,24,40,50]\n",
        "print(duplicate_removal(list))"
      ],
      "metadata": {
        "colab": {
          "base_uri": "https://localhost:8080/"
        },
        "id": "86a-yKFNY8-Z",
        "outputId": "b9351807-49f4-4db6-cd9c-68e9c56e7f1d"
      },
      "execution_count": null,
      "outputs": [
        {
          "output_type": "stream",
          "name": "stdout",
          "text": [
            "[100, 20, 10, 30, 13, 15, 11, 24, 40, 50]\n"
          ]
        }
      ]
    },
    {
      "cell_type": "code",
      "source": [
        "def prod(val):\n",
        "  res =1\n",
        "  for ele in val:\n",
        "    res=res*ele\n",
        "  return prod\n",
        "test_list=[1,2,3,4,5]\n",
        "print(\"original list = \"+ str(test_list))\n",
        "res=[]\n",
        "[res.append(x) for x in test_list if x not in res]\n",
        "product=prod(res)\n",
        "print(\"list after removing duplicates = \"+ str(product))\n",
        "\n"
      ],
      "metadata": {
        "colab": {
          "base_uri": "https://localhost:8080/"
        },
        "id": "1WsTCE5qZk5O",
        "outputId": "d3feb160-baa8-46fb-ad7b-273391dea3a7"
      },
      "execution_count": null,
      "outputs": [
        {
          "output_type": "stream",
          "name": "stdout",
          "text": [
            "original list = [1, 2, 3, 4, 5]\n",
            "list after removing duplicates = <function prod at 0x7d332df87910>\n"
          ]
        }
      ]
    },
    {
      "cell_type": "code",
      "source": [
        "li=[8,9,8,9,8,8,5,5,4,5]\n",
        "k=int(input(\"enter the number\"))\n",
        "count=0\n",
        "new_list=[]\n",
        "for i in li:\n",
        "  freq=li.count(i)\n",
        "  if freq>k and i not in new_list:\n",
        "\n",
        "    new_list.append(i)\n",
        "print(new_list)\n",
        "\n"
      ],
      "metadata": {
        "colab": {
          "base_uri": "https://localhost:8080/"
        },
        "id": "tPyxHjAQd4pu",
        "outputId": "fffb5ec9-dc62-4d78-bc48-7238edf541de"
      },
      "execution_count": null,
      "outputs": [
        {
          "output_type": "stream",
          "name": "stdout",
          "text": [
            "enter the number2\n",
            "[8, 5]\n"
          ]
        }
      ]
    },
    {
      "cell_type": "code",
      "source": [
        "#write a program to test if a list contains elements in the range\n",
        "range1=int(input(\"enter the range1 =1\"))\n",
        "range2=int(input(\"enter the range2 =\"))\n",
        "list=[100,20 ,10,10,10,30,30,13,15,11,24,40,50,99,80]\n",
        "for i in list:\n",
        "  if i>=range1 and i<=range2:\n",
        "    print(i)"
      ],
      "metadata": {
        "colab": {
          "base_uri": "https://localhost:8080/"
        },
        "id": "MdfHMHfJhCeR",
        "outputId": "548dbd8b-32ed-4e66-c655-77cf5901bb20"
      },
      "execution_count": null,
      "outputs": [
        {
          "output_type": "stream",
          "name": "stdout",
          "text": [
            "enter the range1 =55\n",
            "enter the range2 =100\n",
            "100\n",
            "99\n",
            "80\n"
          ]
        }
      ]
    },
    {
      "cell_type": "code",
      "source": [
        "#intersection list\n",
        "def list_intsec(lst1,lst2):\n",
        "  return list(set(lst1) & set(lst2))\n",
        "\n",
        "list1=[10,20,30,40]\n",
        "list2=[20,10,50,60]\n",
        "\n",
        "print(\"Intersection\",list_intsec(list1,list2))\n",
        "\n"
      ],
      "metadata": {
        "id": "xT2_fyUNrLsr"
      },
      "execution_count": null,
      "outputs": []
    },
    {
      "cell_type": "code",
      "source": [
        "i=j=0\n",
        "while(i<len(list1) and j<len(list2)):\n",
        "  if list1[i]<list2[j]:\n",
        "    m.append(list1[i])\n",
        "    i+=1\n",
        "  else:\n",
        "    m.append(list2[j])\n",
        "    j+=1\n",
        "m.append(list1[i:])\n",
        "m.append(list2[j:])"
      ],
      "metadata": {
        "colab": {
          "base_uri": "https://localhost:8080/",
          "height": 211
        },
        "id": "E5iU8FyUt3N2",
        "outputId": "14097c0f-b2c5-4c0e-d611-9fe27336a44b"
      },
      "execution_count": null,
      "outputs": [
        {
          "output_type": "error",
          "ename": "NameError",
          "evalue": "name 'm' is not defined",
          "traceback": [
            "\u001b[0;31m---------------------------------------------------------------------------\u001b[0m",
            "\u001b[0;31mNameError\u001b[0m                                 Traceback (most recent call last)",
            "\u001b[0;32m<ipython-input-50-0374424579bc>\u001b[0m in \u001b[0;36m<cell line: 2>\u001b[0;34m()\u001b[0m\n\u001b[1;32m      2\u001b[0m \u001b[0;32mwhile\u001b[0m\u001b[0;34m(\u001b[0m\u001b[0mi\u001b[0m\u001b[0;34m<\u001b[0m\u001b[0mlen\u001b[0m\u001b[0;34m(\u001b[0m\u001b[0mlist1\u001b[0m\u001b[0;34m)\u001b[0m \u001b[0;32mand\u001b[0m \u001b[0mj\u001b[0m\u001b[0;34m<\u001b[0m\u001b[0mlen\u001b[0m\u001b[0;34m(\u001b[0m\u001b[0mlist2\u001b[0m\u001b[0;34m)\u001b[0m\u001b[0;34m)\u001b[0m\u001b[0;34m:\u001b[0m\u001b[0;34m\u001b[0m\u001b[0;34m\u001b[0m\u001b[0m\n\u001b[1;32m      3\u001b[0m   \u001b[0;32mif\u001b[0m \u001b[0mlist1\u001b[0m\u001b[0;34m[\u001b[0m\u001b[0mi\u001b[0m\u001b[0;34m]\u001b[0m\u001b[0;34m<\u001b[0m\u001b[0mlist2\u001b[0m\u001b[0;34m[\u001b[0m\u001b[0mj\u001b[0m\u001b[0;34m]\u001b[0m\u001b[0;34m:\u001b[0m\u001b[0;34m\u001b[0m\u001b[0;34m\u001b[0m\u001b[0m\n\u001b[0;32m----> 4\u001b[0;31m     \u001b[0mm\u001b[0m\u001b[0;34m.\u001b[0m\u001b[0mappend\u001b[0m\u001b[0;34m(\u001b[0m\u001b[0mlist1\u001b[0m\u001b[0;34m[\u001b[0m\u001b[0mi\u001b[0m\u001b[0;34m]\u001b[0m\u001b[0;34m)\u001b[0m\u001b[0;34m\u001b[0m\u001b[0;34m\u001b[0m\u001b[0m\n\u001b[0m\u001b[1;32m      5\u001b[0m     \u001b[0mi\u001b[0m\u001b[0;34m+=\u001b[0m\u001b[0;36m1\u001b[0m\u001b[0;34m\u001b[0m\u001b[0;34m\u001b[0m\u001b[0m\n\u001b[1;32m      6\u001b[0m   \u001b[0;32melse\u001b[0m\u001b[0;34m:\u001b[0m\u001b[0;34m\u001b[0m\u001b[0;34m\u001b[0m\u001b[0m\n",
            "\u001b[0;31mNameError\u001b[0m: name 'm' is not defined"
          ]
        }
      ]
    },
    {
      "cell_type": "code",
      "source": [
        "def partition_list(list,pivot):\n",
        "  less_than =[x for x in list if x<pivot]\n",
        "  greater_than=[x for x in list if x>pivot]\n",
        "  equal_to=[x for x in list if x==pivot]\n",
        "  return less_than+equal_to+greater_than\n",
        "my_list =[3,1,4,1,5,9,2,6,5]\n",
        "pivot_value =4\n",
        "print(\"partitioned list :\",partition_list(my_list,pivot_value))"
      ],
      "metadata": {
        "colab": {
          "base_uri": "https://localhost:8080/"
        },
        "id": "f6unnIFQZeNc",
        "outputId": "b58feb04-33b5-4a09-9561-99a081a4f3ac"
      },
      "execution_count": null,
      "outputs": [
        {
          "output_type": "stream",
          "name": "stdout",
          "text": [
            "partitioned list : [3, 1, 1, 2, 4, 5, 9, 6, 5]\n"
          ]
        }
      ]
    },
    {
      "cell_type": "code",
      "source": [
        "def largest_sub(list):\n",
        "  max_sum = current_sum = list[0]\n",
        "  for num in list[1:]:\n",
        "    current_sum = max(num,current_sum+num)\n",
        "    max_sum = max(max_sum,current_sum)\n",
        "  return max_sum\n",
        "mylist=[-2,1,-3,4,-1,2,1,-5,4]\n",
        "print(\"largest subarray sum= \",largest_sub(mylist))"
      ],
      "metadata": {
        "colab": {
          "base_uri": "https://localhost:8080/"
        },
        "id": "dKddF0YJbMyy",
        "outputId": "e826877d-9ed2-4155-8ff4-d303b11a97e2"
      },
      "execution_count": null,
      "outputs": [
        {
          "output_type": "stream",
          "name": "stdout",
          "text": [
            "largest subarray sum=  6\n"
          ]
        }
      ]
    },
    {
      "cell_type": "code",
      "source": [
        "def find_peak_element(nums):\n",
        "  if not nums:\n",
        "    return None\n",
        "  left,right=0,len(nums)-1\n",
        "  while left<right:\n",
        "    mid=(left+right)//2\n",
        "    if nums[mid]<nums[mid+1]:\n",
        "      left=mid+1\n",
        "    else:\n",
        "      right=mid\n",
        "  return left\n",
        "my_list=[1,2,1,3,5,6,4]\n",
        "print(\"peak element index = \",find_peak_element(my_list))"
      ],
      "metadata": {
        "colab": {
          "base_uri": "https://localhost:8080/"
        },
        "id": "Au3mj1K_iX2U",
        "outputId": "5a073e96-f7e4-4897-d607-0d8d937ffe4b"
      },
      "execution_count": null,
      "outputs": [
        {
          "output_type": "stream",
          "name": "stdout",
          "text": [
            "peak element index =  5\n"
          ]
        }
      ]
    },
    {
      "cell_type": "code",
      "source": [
        "def createtuple():\n",
        "    tup1=(1,2,3,4,5)\n",
        "    tup2=('a','b','c','d','e')\n",
        "    tup3=('apple','banana','cherry')\n",
        "\n",
        "    return tup1, tup2, tup3\n",
        "\n",
        "\n",
        "def accesstuple(tup1,tup2):\n",
        "    print('tuple 1',tup1)\n",
        "    print('first element of tup1 ',tup1[0])\n",
        "    print('last element of tup1 ',tup1[-1])\n",
        "    print('tuple 2 ',tup2)\n",
        "    print('second element of tup2 ',tup2[1])\n",
        "    print('second last element of tuple 2',tup2[-2])\n",
        "    print(tup1[0:5])\n",
        "\n",
        "\n",
        "def unapcktup(fruits):\n",
        "    fruits=('apple','banana','cherry','strawberry','raspberrry')\n",
        "\n",
        "    (green,yellow,*red)=fruits\n",
        "    print(green)\n",
        "    print(yellow)\n",
        "    print(red)\n",
        "\n",
        "\n",
        "def changetuple(tup1,tup2):\n",
        "    list1=list(tup1)\n",
        "    list2=list(tup2)\n",
        "    list1.append(6)\n",
        "    list2.remove('c')\n",
        "    tup1=tuple(list1)\n",
        "    tup2=tuple(list2)\n",
        "    return tup1,tup2\n",
        "\n",
        "def loopthroughtuple(tup1):\n",
        "    print('looping through tuple 1 using for loop')\n",
        "    for item in tup1:\n",
        "        print(item)\n",
        "\n",
        "    print('\\nlooping using while loop and index numbers')\n",
        "    index=0\n",
        "    while index<len(tup1):\n",
        "        print(tup1|[index])\n",
        "        index+=1\n",
        "\n",
        "\n",
        "def jointuple(tup1,tup2):\n",
        "    tup3=tup1+tup2\n",
        "    return tup3\n",
        "\n",
        "tup1,tup2,tup3=createtuple()\n",
        "accesstuple(tup1,tup2)\n",
        "print()\n",
        "\n",
        "unapcktup(tup3)\n",
        "print()\n",
        "\n",
        "fruits=('apple','banana','cherry','strawberry','raspberrry')\n",
        "unapcktup(fruits)\n",
        "print()\n",
        "\n",
        "tup1,tup2=changetuple(tup1,tup2)\n",
        "print('after making change')\n",
        "accesstuple(tup1,tup2)\n",
        "print()\n",
        "\n",
        "tup3=jointuple(tup1,tup1)\n",
        "print('joint tuple',tup3)\n"
      ],
      "metadata": {
        "colab": {
          "base_uri": "https://localhost:8080/"
        },
        "id": "8MdmFtEwtdu4",
        "outputId": "cc8d84a2-abf6-4fd1-c83f-43fd0a9e60e1"
      },
      "execution_count": null,
      "outputs": [
        {
          "output_type": "stream",
          "name": "stdout",
          "text": [
            "tuple 1 (1, 2, 3, 4, 5)\n",
            "first element of tup1  1\n",
            "last element of tup1  5\n",
            "tuple 2  ('a', 'b', 'c', 'd', 'e')\n",
            "second element of tup2  b\n",
            "second last element of tuple 2 d\n",
            "(1, 2, 3, 4, 5)\n",
            "\n",
            "apple\n",
            "banana\n",
            "['cherry', 'strawberry', 'raspberrry']\n",
            "\n",
            "apple\n",
            "banana\n",
            "['cherry', 'strawberry', 'raspberrry']\n",
            "\n",
            "after making change\n",
            "tuple 1 (1, 2, 3, 4, 5, 6)\n",
            "first element of tup1  1\n",
            "last element of tup1  6\n",
            "tuple 2  ('a', 'b', 'd', 'e')\n",
            "second element of tup2  b\n",
            "second last element of tuple 2 d\n",
            "(1, 2, 3, 4, 5)\n",
            "\n",
            "joint tuple (1, 2, 3, 4, 5, 6, 1, 2, 3, 4, 5, 6)\n"
          ]
        }
      ]
    },
    {
      "cell_type": "code",
      "source": [
        "mytup=(1,2,3)\n",
        "anothertup=tuple([4,5,6])\n",
        "print(mytup[0])\n",
        "print(mytup[-1])\n",
        "print(mytup[1:3])\n",
        "combinedtup=mytup+anothertup\n",
        "print(combinedtup)\n",
        "repeated_tuple=mytup*3\n",
        "print(repeated_tuple)\n",
        "print(2 in mytup)\n",
        "print(4 not in mytup)\n",
        "print(len(mytup))\n",
        "for item in mytup:\n",
        "    print(item)\n",
        "\n",
        "stringtotup=tuple('hello')\n",
        "print(stringtotup)\n",
        "listtotup=tuple([1,2,3])\n",
        "print(listtotup)\n",
        "print(mytup.count(2))\n",
        "print(mytup.index(3))"
      ],
      "metadata": {
        "colab": {
          "base_uri": "https://localhost:8080/"
        },
        "id": "KY08tZUU-PPf",
        "outputId": "26d50201-f16c-4312-aabd-ca858dae0307"
      },
      "execution_count": null,
      "outputs": [
        {
          "output_type": "stream",
          "name": "stdout",
          "text": [
            "1\n",
            "3\n",
            "(2, 3)\n",
            "(1, 2, 3, 4, 5, 6)\n",
            "(1, 2, 3, 1, 2, 3, 1, 2, 3)\n",
            "True\n",
            "True\n",
            "3\n",
            "1\n",
            "2\n",
            "3\n",
            "('h', 'e', 'l', 'l', 'o')\n",
            "(1, 2, 3)\n",
            "1\n",
            "2\n"
          ]
        }
      ]
    },
    {
      "cell_type": "code",
      "source": [
        "tuples_of_tuples=((1,'apple'),(3,'orange'),(2,'banana'))\n",
        "sorted_tuples=sorted(tuples_of_tuples,key=lambda x:x[1])\n",
        "print(\"Squares tuple:\",sorted_tuples)"
      ],
      "metadata": {
        "id": "TFpXRc47AkPB",
        "colab": {
          "base_uri": "https://localhost:8080/"
        },
        "outputId": "e22a9d85-8789-4c7c-aee3-e08808a3b7c6"
      },
      "execution_count": null,
      "outputs": [
        {
          "output_type": "stream",
          "name": "stdout",
          "text": [
            "Squares tuple: [(1, 'apple'), (2, 'banana'), (3, 'orange')]\n"
          ]
        }
      ]
    },
    {
      "cell_type": "code",
      "source": [
        "tupleoftuple=((1,'apple'),(3,'orsnge'),(2,'banana'))\n",
        "sortedtuple=sorted(tupleoftuple,key=lambda x:x[1])\n",
        "print('sorted tuples',sortedtuple)"
      ],
      "metadata": {
        "colab": {
          "base_uri": "https://localhost:8080/"
        },
        "id": "Fqelznh2DxL7",
        "outputId": "13517749-c9e9-4a0e-db6b-726c9d294b0f"
      },
      "execution_count": null,
      "outputs": [
        {
          "output_type": "stream",
          "name": "stdout",
          "text": [
            "sorted tuples [(1, 'apple'), (2, 'banana'), (3, 'orsnge')]\n"
          ]
        }
      ]
    },
    {
      "cell_type": "code",
      "source": [
        "list1 = [1,2,3]\n",
        "list2 = ['a','b','c']\n",
        "zipped_tuple=tuple(zip(list1,list2))\n",
        "print(zipped_tuple)"
      ],
      "metadata": {
        "colab": {
          "base_uri": "https://localhost:8080/"
        },
        "id": "qEBLDqiOEVmX",
        "outputId": "f5dcac65-f0b0-4aa6-f829-2f2ad6b950cf"
      },
      "execution_count": null,
      "outputs": [
        {
          "output_type": "stream",
          "name": "stdout",
          "text": [
            "((1, 'a'), (2, 'b'), (3, 'c'))\n"
          ]
        }
      ]
    },
    {
      "cell_type": "code",
      "source": [
        "from collections import namedtuple\n",
        "import math\n",
        "\n",
        "point=namedtuple('Point',['x','y'])\n",
        "\n",
        "point1=point(1,2)\n",
        "point2=point(4,6)\n",
        "\n",
        "distance=math.sqrt((point2.x-point1.x)**2+(point2.y-point1.y)**2)\n",
        "\n",
        "print(\"distance between point 1 and point 2:\",distance)\n",
        "\n",
        "\n"
      ],
      "metadata": {
        "colab": {
          "base_uri": "https://localhost:8080/"
        },
        "id": "6x8Y5pufEmUQ",
        "outputId": "a9a379b0-28b7-4785-e475-8245aa317450"
      },
      "execution_count": null,
      "outputs": [
        {
          "output_type": "stream",
          "name": "stdout",
          "text": [
            "distance between point 1 and point 2: 5.0\n"
          ]
        }
      ]
    },
    {
      "cell_type": "code",
      "source": [
        "original_tuple=(1,2,3,4,5)\n",
        "filtered_tuple=tuple(filter(lambda x: x%2==0,original_tuple))\n",
        "print(\"Filtered tuple:\",filtered_tuple)"
      ],
      "metadata": {
        "colab": {
          "base_uri": "https://localhost:8080/"
        },
        "id": "PeHrk2ciIXtS",
        "outputId": "3b4a3349-abe1-4584-c3d5-54d4deb5b5e5"
      },
      "execution_count": null,
      "outputs": [
        {
          "output_type": "stream",
          "name": "stdout",
          "text": [
            "Filtered tuple: (2, 4)\n"
          ]
        }
      ]
    },
    {
      "cell_type": "code",
      "source": [
        "from functools import reduce\n",
        "\n",
        "def add(x,y):\n",
        "    return x+y\n",
        "\n",
        "original=(1,2,3,4,5)\n",
        "\n",
        "result=reduce(add,original)\n",
        "print(\"result of reducing the  tuple:\", result)"
      ],
      "metadata": {
        "colab": {
          "base_uri": "https://localhost:8080/"
        },
        "id": "lpTN0BGvcTB_",
        "outputId": "ff37055c-28ac-494b-d204-454c0e201d61"
      },
      "execution_count": null,
      "outputs": [
        {
          "output_type": "stream",
          "name": "stdout",
          "text": [
            "result of reducing the  tuple: 15\n"
          ]
        }
      ]
    },
    {
      "cell_type": "code",
      "source": [
        "from functools import reduce\n",
        "\n",
        "def add(x,y):\n",
        "    return x+y\n",
        "\n",
        "origtup=(1,2,3,4,5)\n",
        "result=reduce(add,originaltup)\n",
        "print('result of reducing the tuple ',result)"
      ],
      "metadata": {
        "colab": {
          "base_uri": "https://localhost:8080/",
          "height": 193
        },
        "id": "nqfB89wxd-UN",
        "outputId": "43a00533-b653-411f-a37a-706026afd7b8"
      },
      "execution_count": null,
      "outputs": [
        {
          "output_type": "error",
          "ename": "NameError",
          "evalue": "name 'originaltup' is not defined",
          "traceback": [
            "\u001b[0;31m---------------------------------------------------------------------------\u001b[0m",
            "\u001b[0;31mNameError\u001b[0m                                 Traceback (most recent call last)",
            "\u001b[0;32m<ipython-input-4-2bac81082f23>\u001b[0m in \u001b[0;36m<cell line: 7>\u001b[0;34m()\u001b[0m\n\u001b[1;32m      5\u001b[0m \u001b[0;34m\u001b[0m\u001b[0m\n\u001b[1;32m      6\u001b[0m \u001b[0morigtup\u001b[0m\u001b[0;34m=\u001b[0m\u001b[0;34m(\u001b[0m\u001b[0;36m1\u001b[0m\u001b[0;34m,\u001b[0m\u001b[0;36m2\u001b[0m\u001b[0;34m,\u001b[0m\u001b[0;36m3\u001b[0m\u001b[0;34m,\u001b[0m\u001b[0;36m4\u001b[0m\u001b[0;34m,\u001b[0m\u001b[0;36m5\u001b[0m\u001b[0;34m)\u001b[0m\u001b[0;34m\u001b[0m\u001b[0;34m\u001b[0m\u001b[0m\n\u001b[0;32m----> 7\u001b[0;31m \u001b[0mresult\u001b[0m\u001b[0;34m=\u001b[0m\u001b[0mreduce\u001b[0m\u001b[0;34m(\u001b[0m\u001b[0madd\u001b[0m\u001b[0;34m,\u001b[0m\u001b[0moriginaltup\u001b[0m\u001b[0;34m)\u001b[0m\u001b[0;34m\u001b[0m\u001b[0;34m\u001b[0m\u001b[0m\n\u001b[0m\u001b[1;32m      8\u001b[0m \u001b[0mprint\u001b[0m\u001b[0;34m(\u001b[0m\u001b[0;34m'result of reducing the tuple '\u001b[0m\u001b[0;34m,\u001b[0m\u001b[0mresult\u001b[0m\u001b[0;34m)\u001b[0m\u001b[0;34m\u001b[0m\u001b[0;34m\u001b[0m\u001b[0m\n",
            "\u001b[0;31mNameError\u001b[0m: name 'originaltup' is not defined"
          ]
        }
      ]
    },
    {
      "cell_type": "code",
      "source": [
        "#add\n",
        "set={\"apple\",\"banana\",\"cherry\"}\n",
        "set.add(\"orange\")\n",
        "print(set)\n",
        "print(\"after add :\",set)\n",
        "\n",
        "#update\n",
        "set={\"apple\",\"banana\",\"cherry\"}\n",
        "tropical={\"pineapple\",\"mango\",\"papaya\"}\n",
        "set.update(tropical)\n",
        "print(\"after update:\",set)\n",
        "\n"
      ],
      "metadata": {
        "colab": {
          "base_uri": "https://localhost:8080/"
        },
        "id": "cuiQ1iPPlc2U",
        "outputId": "fe459810-a05b-48c6-f45f-746a10d3adb4"
      },
      "execution_count": null,
      "outputs": [
        {
          "output_type": "stream",
          "name": "stdout",
          "text": [
            "{'apple', 'orange', 'banana', 'cherry'}\n",
            "after add : {'apple', 'orange', 'banana', 'cherry'}\n",
            "after update: {'apple', 'pineapple', 'mango', 'papaya', 'banana', 'cherry'}\n"
          ]
        }
      ]
    },
    {
      "cell_type": "code",
      "source": [
        "def power_set(s):\n",
        "    result=[[]]\n",
        "    for elem in s:\n",
        "        result.extend([subset+[elem] for subset in result])\n",
        "    return[set(subset) for subset in result]\n",
        "\n",
        "input_set={1,2,3}\n",
        "powerset=power_set(input_set)\n",
        "print(\"power set:\",powerset)\n"
      ],
      "metadata": {
        "colab": {
          "base_uri": "https://localhost:8080/",
          "height": 356
        },
        "id": "f7DM-p-s1phV",
        "outputId": "1bd70ebc-b08d-438f-f7d0-d1b09dece8f1"
      },
      "execution_count": null,
      "outputs": [
        {
          "output_type": "error",
          "ename": "TypeError",
          "evalue": "'set' object is not callable",
          "traceback": [
            "\u001b[0;31m---------------------------------------------------------------------------\u001b[0m",
            "\u001b[0;31mTypeError\u001b[0m                                 Traceback (most recent call last)",
            "\u001b[0;32m<ipython-input-5-82872b8ab531>\u001b[0m in \u001b[0;36m<cell line: 8>\u001b[0;34m()\u001b[0m\n\u001b[1;32m      6\u001b[0m \u001b[0;34m\u001b[0m\u001b[0m\n\u001b[1;32m      7\u001b[0m \u001b[0minput_set\u001b[0m\u001b[0;34m=\u001b[0m\u001b[0;34m{\u001b[0m\u001b[0;36m1\u001b[0m\u001b[0;34m,\u001b[0m\u001b[0;36m2\u001b[0m\u001b[0;34m,\u001b[0m\u001b[0;36m3\u001b[0m\u001b[0;34m}\u001b[0m\u001b[0;34m\u001b[0m\u001b[0;34m\u001b[0m\u001b[0m\n\u001b[0;32m----> 8\u001b[0;31m \u001b[0mpowerset\u001b[0m\u001b[0;34m=\u001b[0m\u001b[0mpower_set\u001b[0m\u001b[0;34m(\u001b[0m\u001b[0minput_set\u001b[0m\u001b[0;34m)\u001b[0m\u001b[0;34m\u001b[0m\u001b[0;34m\u001b[0m\u001b[0m\n\u001b[0m\u001b[1;32m      9\u001b[0m \u001b[0mprint\u001b[0m\u001b[0;34m(\u001b[0m\u001b[0;34m\"power set:\"\u001b[0m\u001b[0;34m,\u001b[0m\u001b[0mpowerset\u001b[0m\u001b[0;34m)\u001b[0m\u001b[0;34m\u001b[0m\u001b[0;34m\u001b[0m\u001b[0m\n\u001b[1;32m     10\u001b[0m \u001b[0;34m\u001b[0m\u001b[0m\n",
            "\u001b[0;32m<ipython-input-5-82872b8ab531>\u001b[0m in \u001b[0;36mpower_set\u001b[0;34m(s)\u001b[0m\n\u001b[1;32m      3\u001b[0m     \u001b[0;32mfor\u001b[0m \u001b[0melem\u001b[0m \u001b[0;32min\u001b[0m \u001b[0ms\u001b[0m\u001b[0;34m:\u001b[0m\u001b[0;34m\u001b[0m\u001b[0;34m\u001b[0m\u001b[0m\n\u001b[1;32m      4\u001b[0m         \u001b[0mresult\u001b[0m\u001b[0;34m.\u001b[0m\u001b[0mextend\u001b[0m\u001b[0;34m(\u001b[0m\u001b[0;34m[\u001b[0m\u001b[0msubset\u001b[0m\u001b[0;34m+\u001b[0m\u001b[0;34m[\u001b[0m\u001b[0melem\u001b[0m\u001b[0;34m]\u001b[0m \u001b[0;32mfor\u001b[0m \u001b[0msubset\u001b[0m \u001b[0;32min\u001b[0m \u001b[0mresult\u001b[0m\u001b[0;34m]\u001b[0m\u001b[0;34m)\u001b[0m\u001b[0;34m\u001b[0m\u001b[0;34m\u001b[0m\u001b[0m\n\u001b[0;32m----> 5\u001b[0;31m     \u001b[0;32mreturn\u001b[0m\u001b[0;34m[\u001b[0m\u001b[0mset\u001b[0m\u001b[0;34m(\u001b[0m\u001b[0msubset\u001b[0m\u001b[0;34m)\u001b[0m \u001b[0;32mfor\u001b[0m \u001b[0msubset\u001b[0m \u001b[0;32min\u001b[0m \u001b[0mresult\u001b[0m\u001b[0;34m]\u001b[0m\u001b[0;34m\u001b[0m\u001b[0;34m\u001b[0m\u001b[0m\n\u001b[0m\u001b[1;32m      6\u001b[0m \u001b[0;34m\u001b[0m\u001b[0m\n\u001b[1;32m      7\u001b[0m \u001b[0minput_set\u001b[0m\u001b[0;34m=\u001b[0m\u001b[0;34m{\u001b[0m\u001b[0;36m1\u001b[0m\u001b[0;34m,\u001b[0m\u001b[0;36m2\u001b[0m\u001b[0;34m,\u001b[0m\u001b[0;36m3\u001b[0m\u001b[0;34m}\u001b[0m\u001b[0;34m\u001b[0m\u001b[0;34m\u001b[0m\u001b[0m\n",
            "\u001b[0;32m<ipython-input-5-82872b8ab531>\u001b[0m in \u001b[0;36m<listcomp>\u001b[0;34m(.0)\u001b[0m\n\u001b[1;32m      3\u001b[0m     \u001b[0;32mfor\u001b[0m \u001b[0melem\u001b[0m \u001b[0;32min\u001b[0m \u001b[0ms\u001b[0m\u001b[0;34m:\u001b[0m\u001b[0;34m\u001b[0m\u001b[0;34m\u001b[0m\u001b[0m\n\u001b[1;32m      4\u001b[0m         \u001b[0mresult\u001b[0m\u001b[0;34m.\u001b[0m\u001b[0mextend\u001b[0m\u001b[0;34m(\u001b[0m\u001b[0;34m[\u001b[0m\u001b[0msubset\u001b[0m\u001b[0;34m+\u001b[0m\u001b[0;34m[\u001b[0m\u001b[0melem\u001b[0m\u001b[0;34m]\u001b[0m \u001b[0;32mfor\u001b[0m \u001b[0msubset\u001b[0m \u001b[0;32min\u001b[0m \u001b[0mresult\u001b[0m\u001b[0;34m]\u001b[0m\u001b[0;34m)\u001b[0m\u001b[0;34m\u001b[0m\u001b[0;34m\u001b[0m\u001b[0m\n\u001b[0;32m----> 5\u001b[0;31m     \u001b[0;32mreturn\u001b[0m\u001b[0;34m[\u001b[0m\u001b[0mset\u001b[0m\u001b[0;34m(\u001b[0m\u001b[0msubset\u001b[0m\u001b[0;34m)\u001b[0m \u001b[0;32mfor\u001b[0m \u001b[0msubset\u001b[0m \u001b[0;32min\u001b[0m \u001b[0mresult\u001b[0m\u001b[0;34m]\u001b[0m\u001b[0;34m\u001b[0m\u001b[0;34m\u001b[0m\u001b[0m\n\u001b[0m\u001b[1;32m      6\u001b[0m \u001b[0;34m\u001b[0m\u001b[0m\n\u001b[1;32m      7\u001b[0m \u001b[0minput_set\u001b[0m\u001b[0;34m=\u001b[0m\u001b[0;34m{\u001b[0m\u001b[0;36m1\u001b[0m\u001b[0;34m,\u001b[0m\u001b[0;36m2\u001b[0m\u001b[0;34m,\u001b[0m\u001b[0;36m3\u001b[0m\u001b[0;34m}\u001b[0m\u001b[0;34m\u001b[0m\u001b[0;34m\u001b[0m\u001b[0m\n",
            "\u001b[0;31mTypeError\u001b[0m: 'set' object is not callable"
          ]
        }
      ]
    },
    {
      "cell_type": "code",
      "source": [
        "thisdict={\n",
        "    \"brand\":\"ford\",\n",
        "    \"model\":\"mustang\",\n",
        "    \"year\":1964\n",
        "}\n",
        "thisdict2=dict(name=\"John\",age=36,country=\"Norway\")\n",
        "print(thisdict)\n",
        "my_dict={}\n",
        "my_dict['name']=''"
      ],
      "metadata": {
        "colab": {
          "base_uri": "https://localhost:8080/"
        },
        "id": "WFJ64c-q6kD0",
        "outputId": "2e6471ec-781c-4749-bd55-123bcba60dc4"
      },
      "execution_count": null,
      "outputs": [
        {
          "output_type": "stream",
          "name": "stdout",
          "text": [
            "{'brand': 'ford', 'model': 'mustang', 'year': 1964}\n"
          ]
        }
      ]
    },
    {
      "cell_type": "code",
      "source": [
        "my_dict11 = {\"name\": \"Ford\", \"model\": \"Mustang\", \"year\": 1964}\n",
        "my_dict22 = dict(name=\"john\", age=36, country=\"India\")\n",
        "print(my_dict11)\n",
        "\n",
        "# Creating an empty dictionary\n",
        "my_dict = {}\n",
        "\n",
        "# Adding key and value to the dictionary\n",
        "my_dict[\"name\"] = \"alice\"\n",
        "my_dict[\"age\"] = 30\n",
        "my_dict[\"city\"] = \"new york\"\n",
        "\n",
        "print(\"Initial dictionary:\", my_dict)\n",
        "\n",
        "# Accessing the values\n",
        "print(\"name:\", my_dict[\"name\"])\n",
        "print(\"Age:\", my_dict[\"age\"])\n",
        "\n",
        "x = my_dict.keys()\n",
        "print(x)\n",
        "\n",
        "y = my_dict.values()\n",
        "print(y)\n",
        "\n",
        "z = my_dict.items()\n",
        "print(z)\n",
        "\n",
        "m = my_dict.get(\"city\")\n",
        "print(m)\n",
        "\n",
        "for x in my_dict:\n",
        "    print(x)\n",
        "for x in my_dict:\n",
        "    print(my_dict[x])\n",
        "print(\"keys:\")\n",
        "for key in my_dict.keys():\n",
        "    print(key)\n",
        "print(\"values:\")\n",
        "for value in my_dict.values():\n",
        "    print(value)\n",
        "print(\"key-value pairs:\")\n",
        "for key, value in my_dict.items():\n",
        "    print(key, \":\", value)\n",
        "\n",
        "if 'name' in my_dict:\n",
        "    print(\"'name' exists in dictionary\")\n",
        "else:\n",
        "    print(\"'name' does not exist in dictionary\")\n",
        "\n",
        "my_dict['age'] = 35\n",
        "print(\"Modified age:\", my_dict['age'])\n",
        "\n",
        "my_dict.update({\"age\": 45})\n",
        "my_dict[\"color1\"] = \"fair\"\n",
        "print(my_dict)\n",
        "\n",
        "my_dict.update({\"color2\": \"dark\"})\n",
        "print(my_dict)\n",
        "\n",
        "removed_value = my_dict.pop('city')\n",
        "print(removed_value)\n",
        "print(my_dict)\n",
        "\n",
        "my_dict.popitem()\n",
        "print(my_dict)\n",
        "\n",
        "my_dict.clear()\n",
        "print(\"Dictionary after clear:\", my_dict)\n",
        "\n",
        "del my_dict\n"
      ],
      "metadata": {
        "colab": {
          "base_uri": "https://localhost:8080/"
        },
        "id": "e_54R8gxim5T",
        "outputId": "1e3c9925-b283-4883-c125-35ee44032533"
      },
      "execution_count": null,
      "outputs": [
        {
          "output_type": "stream",
          "name": "stdout",
          "text": [
            "{'name': 'Ford', 'model': 'Mustang', 'year': 1964}\n",
            "Initial dictionary: {'name': 'alice', 'age': 30, 'city': 'new york'}\n",
            "name: alice\n",
            "Age: 30\n",
            "dict_keys(['name', 'age', 'city'])\n",
            "dict_values(['alice', 30, 'new york'])\n",
            "dict_items([('name', 'alice'), ('age', 30), ('city', 'new york')])\n",
            "new york\n",
            "name\n",
            "age\n",
            "city\n",
            "alice\n",
            "30\n",
            "new york\n",
            "keys:\n",
            "name\n",
            "age\n",
            "city\n",
            "values:\n",
            "alice\n",
            "30\n",
            "new york\n",
            "key-value pairs:\n",
            "name : alice\n",
            "age : 30\n",
            "city : new york\n",
            "'name' exists in dictionary\n",
            "Modified age: 35\n",
            "{'name': 'alice', 'age': 45, 'city': 'new york', 'color1': 'fair'}\n",
            "{'name': 'alice', 'age': 45, 'city': 'new york', 'color1': 'fair', 'color2': 'dark'}\n",
            "new york\n",
            "{'name': 'alice', 'age': 45, 'color1': 'fair', 'color2': 'dark'}\n",
            "{'name': 'alice', 'age': 45, 'color1': 'fair'}\n",
            "Dictionary after clear: {}\n"
          ]
        }
      ]
    },
    {
      "cell_type": "code",
      "source": [
        "myfamily={\n",
        "    \"child1\":{\n",
        "        \"name\":\"john\",\n",
        "        \"year\":2004\n",
        "    },\n",
        "    \"child2\":{\n",
        "        \"name\":\"mary\",\n",
        "        \"year\":2007\n",
        "    },\n",
        "    \"child3\":{\n",
        "        \"name\":\"peter\",\n",
        "        \"year\":2011\n",
        "    }\n",
        "}\n",
        "print(myfamily)\n",
        "print(myfamily[\"child2\"][\"name\"])\n",
        "for x,obj in myfamily.items():\n",
        "    print(x)\n",
        "    for y in obj:\n",
        "        print(y + ':',obj[y])"
      ],
      "metadata": {
        "colab": {
          "base_uri": "https://localhost:8080/"
        },
        "id": "fpf7yoban4ck",
        "outputId": "cc194a89-ab02-49cb-da9b-0962d096ac14"
      },
      "execution_count": null,
      "outputs": [
        {
          "output_type": "stream",
          "name": "stdout",
          "text": [
            "{'child1': {'name': 'john', 'year': 2004}, 'child2': {'name': 'mary', 'year': 2007}, 'child3': {'name': 'peter', 'year': 2011}}\n",
            "mary\n",
            "child1\n",
            "name: john\n",
            "year: 2004\n",
            "child2\n",
            "name: mary\n",
            "year: 2007\n",
            "child3\n",
            "name: peter\n",
            "year: 2011\n"
          ]
        }
      ]
    },
    {
      "cell_type": "code",
      "source": [
        "input_string = input(\"Enter the string\")\n",
        "print(\"length of string\",len(input_string))\n",
        "print(\"uppercase:\", input_string.upper())\n",
        "print(input_string.isupper())\n",
        "print(\"lowercase:\", input_string.lower())\n",
        "print(input_string.islower())\n",
        "print(\"capitalized:\", input_string.capitalize())\n",
        "print(\"title:\", input_string.title())\n",
        "substring=input(\"enter the substring\")\n",
        "print(\"occurances of \",substring,\"in string\",input_string.count(substring))\n",
        "prefix = input(\"enter the prefix\")\n",
        "print(\"starts with\",prefix,\":\",input_string.startswith(prefix))\n",
        "suffix = input(\"enter the suffix\")\n",
        "print(\"ends with\",suffix,\":\",input_string.endswith(suffix))\n",
        "old_substring=input(\"enter the old substring\")\n",
        "new_substring=input(\"enter the new substring\")\n",
        "print(\"replaced string:\",input_string.replace(old_substring,new_substring))\n",
        "delimiter=input(\"enter the delimiter\")\n",
        "print(\"splitted string:\",input_string.split(delimiter))\n",
        "substrings=input(\"enter the substring\")\n",
        "join_delimitter = input(\"enter the join delimiter\")\n",
        "print(\"joined string:\",join_delimitter.join(substrings))"
      ],
      "metadata": {
        "colab": {
          "base_uri": "https://localhost:8080/"
        },
        "id": "U3EJYjfgx_p-",
        "outputId": "93ffbbcf-362a-4ed7-a59a-fd7d881c34ce"
      },
      "execution_count": null,
      "outputs": [
        {
          "output_type": "stream",
          "name": "stdout",
          "text": [
            "Enter the stringqwertyu\n",
            "length of string 7\n",
            "uppercase: QWERTYU\n",
            "False\n",
            "lowercase: qwertyu\n",
            "True\n",
            "capitalized: Qwertyu\n",
            "title: Qwertyu\n",
            "enter the substringq\n",
            "occurances of  q in string 1\n",
            "enter the prefixqwe\n",
            "starts with qwe : True\n",
            "enter the suffixrty\n",
            "ends with rty : False\n",
            "enter the old substringqwe\n",
            "enter the new substringfuck\n",
            "replaced string: fuckrtyu\n",
            "enter the delimiterty\n",
            "splitted string: ['qwer', 'u']\n",
            "enter the substringqwer\n",
            "enter the join delimiterty\n",
            "joined string: qtywtyetyr\n"
          ]
        }
      ]
    },
    {
      "cell_type": "code",
      "source": [
        "age=36\n",
        "name = input()\n",
        "print(f\"my name is {name} and my age is {age}\")"
      ],
      "metadata": {
        "colab": {
          "base_uri": "https://localhost:8080/"
        },
        "id": "BQ4lSzh8_Hyq",
        "outputId": "b59712a9-76f5-48f0-eac3-a49ffc03c252"
      },
      "execution_count": null,
      "outputs": [
        {
          "output_type": "stream",
          "name": "stdout",
          "text": [
            "Latish\n",
            "my name is Latish and my age is 36\n"
          ]
        }
      ]
    },
    {
      "cell_type": "code",
      "source": [
        "def string_reverse(str):\n",
        "  rstr =''\n",
        "  i=len(str)\n",
        "  while i>0:\n",
        "    rstr+=str[i-1]\n",
        "    i=i-1\n",
        "  return rstr\n",
        "input_string=input(\"enter the string\")\n",
        "reversed_sring = string_reverse(input_string)\n",
        "print(\"reversed string:\",string_reverse(input_string))"
      ],
      "metadata": {
        "colab": {
          "base_uri": "https://localhost:8080/"
        },
        "id": "BWE9SXQtAJnq",
        "outputId": "0afd0f47-7706-499e-c4dc-ab9133715920"
      },
      "execution_count": null,
      "outputs": [
        {
          "output_type": "stream",
          "name": "stdout",
          "text": [
            "enter the stringqwerty\n",
            "reversed string: ytrewq\n"
          ]
        }
      ]
    },
    {
      "cell_type": "code",
      "source": [
        "def myfun(x,y=50):\n",
        "  print(\"x=\",x)\n",
        "  print(\"y=\",y)\n",
        "myfun(10)\n",
        "myfun(100,20)"
      ],
      "metadata": {
        "colab": {
          "base_uri": "https://localhost:8080/"
        },
        "id": "_6I_owHFGaSO",
        "outputId": "fdc19cf6-752a-4a86-9005-b0d2c3fd2176"
      },
      "execution_count": null,
      "outputs": [
        {
          "output_type": "stream",
          "name": "stdout",
          "text": [
            "x= 10\n",
            "y= 50\n",
            "x= 100\n",
            "y= 20\n"
          ]
        }
      ]
    },
    {
      "cell_type": "code",
      "source": [
        "def student(firstname,lastname):\n",
        "  print(firstname,lastname)\n",
        "student(firstname=\"john\",lastname=\"doe\")\n",
        "student(lastname=\"doe\",firstname=\"john\")"
      ],
      "metadata": {
        "colab": {
          "base_uri": "https://localhost:8080/"
        },
        "id": "m0d5mS3LI4ek",
        "outputId": "b7295d7b-d4e3-49f7-980a-7873e17d2810"
      },
      "execution_count": null,
      "outputs": [
        {
          "output_type": "stream",
          "name": "stdout",
          "text": [
            "john doe\n",
            "john doe\n"
          ]
        }
      ]
    },
    {
      "cell_type": "code",
      "source": [
        "def myfun1(*argv):\n",
        "  print(argv)\n",
        "myfun1('Hello','wecome','to','India')"
      ],
      "metadata": {
        "colab": {
          "base_uri": "https://localhost:8080/"
        },
        "id": "tVAgqaSGLLzm",
        "outputId": "c8a5b117-ed71-4c36-a7d2-0843ac44f101"
      },
      "execution_count": null,
      "outputs": [
        {
          "output_type": "stream",
          "name": "stdout",
          "text": [
            "('Hello', 'wecome', 'to', 'India')\n"
          ]
        }
      ]
    },
    {
      "cell_type": "code",
      "source": [
        "def pp(**gg):\n",
        "  print(gg)\n",
        "pp(a='hello',b='yo')"
      ],
      "metadata": {
        "colab": {
          "base_uri": "https://localhost:8080/"
        },
        "id": "hc7aHuQ0MDBw",
        "outputId": "c84fccce-a5e8-45ac-d624-eeba2f8d0cc2"
      },
      "execution_count": null,
      "outputs": [
        {
          "output_type": "stream",
          "name": "stdout",
          "text": [
            "{'a': 'hello', 'b': 'yo'}\n"
          ]
        }
      ]
    },
    {
      "cell_type": "code",
      "source": [
        "def cube(x):\n",
        "  return x**3\n",
        "cube_v2=lambda x:x*x*x\n",
        "print(cube(3))\n",
        "print(cube_v2(3))"
      ],
      "metadata": {
        "colab": {
          "base_uri": "https://localhost:8080/"
        },
        "id": "FeDAKM5mMePP",
        "outputId": "95e09f40-3c4b-49f5-a89c-e25bbd3aed51"
      },
      "execution_count": null,
      "outputs": [
        {
          "output_type": "stream",
          "name": "stdout",
          "text": [
            "27\n",
            "27\n"
          ]
        }
      ]
    },
    {
      "cell_type": "code",
      "source": [
        "def power(n,p):\n",
        "  if p==0:\n",
        "    return 1\n",
        "  else:\n",
        "    return n*power(n,p-1)\n",
        "n = 5\n",
        "p=2\n",
        "print(power(n,p))"
      ],
      "metadata": {
        "colab": {
          "base_uri": "https://localhost:8080/"
        },
        "id": "13bP6pxMQelO",
        "outputId": "f185aa8d-df9d-4872-d2d3-d6cfa31331e1"
      },
      "execution_count": null,
      "outputs": [
        {
          "output_type": "stream",
          "name": "stdout",
          "text": [
            "25\n"
          ]
        }
      ]
    },
    {
      "cell_type": "code",
      "source": [
        "def print_patter(n,m):\n",
        "  if n==0:\n",
        "    return\n",
        "  for i in range(5,m-1,-1):\n",
        "    print(i,end=' ')\n",
        "  print()\n",
        "  print_patter(n-1,m+1)\n",
        "n=5\n",
        "print_patter(n,1)"
      ],
      "metadata": {
        "colab": {
          "base_uri": "https://localhost:8080/"
        },
        "id": "MdQXXZ9KpKbx",
        "outputId": "bc7978df-95c5-4b7c-d02f-cb5a62b25fea"
      },
      "execution_count": null,
      "outputs": [
        {
          "output_type": "stream",
          "name": "stdout",
          "text": [
            "5 4 3 2 1 \n",
            "5 4 3 2 \n",
            "5 4 3 \n",
            "5 4 \n",
            "5 \n"
          ]
        }
      ]
    },
    {
      "cell_type": "code",
      "source": [
        "#convert a decimal number to binary\n",
        "def decimal_to_binary(n):\n",
        "  if n>1:\n",
        "    decimal_to_binary(n//2)\n",
        "  print(n%2,end='')\n",
        "n = int(input(\"enter the number\"))\n",
        "decimal_to_binary(n)"
      ],
      "metadata": {
        "colab": {
          "base_uri": "https://localhost:8080/"
        },
        "id": "_bFrcTEkrlH-",
        "outputId": "248ce21d-9e78-45fc-e017-211cbdf3b1ee"
      },
      "execution_count": null,
      "outputs": [
        {
          "output_type": "stream",
          "name": "stdout",
          "text": [
            "enter the number22\n",
            "10110"
          ]
        }
      ]
    },
    {
      "cell_type": "code",
      "source": [
        "def dtb(d):\n",
        "  if d==0:\n",
        "    return \"0\"\n",
        "  b = \" \"\n",
        "  while d>0:\n",
        "    b=str(d%2)+b\n",
        "    d=d//2\n",
        "  return b\n",
        "d = int(input(\"enter the number\"))\n",
        "b=dtb(d)\n",
        "print(\"binary rep:\",b)"
      ],
      "metadata": {
        "colab": {
          "base_uri": "https://localhost:8080/"
        },
        "id": "F2FMZV5bu3sO",
        "outputId": "4f2bbb10-8ce2-4ad0-a696-2f61409dd724"
      },
      "execution_count": null,
      "outputs": [
        {
          "output_type": "stream",
          "name": "stdout",
          "text": [
            "enter the number10\n",
            "binary rep: 1010 \n"
          ]
        }
      ]
    },
    {
      "cell_type": "code",
      "source": [
        "#any other num to dec num\n",
        "def any_base_to_dec(n,b):\n",
        "  dec=int(n,b)\n",
        "  print(dec)\n",
        "hex_num ='1A'\n",
        "b = 16\n",
        "any_base_to_dec(hex_num,b)"
      ],
      "metadata": {
        "colab": {
          "base_uri": "https://localhost:8080/"
        },
        "id": "2mdCBqOswUtR",
        "outputId": "6e6b2d18-f607-40ec-aff6-61e4ce6d7af9"
      },
      "execution_count": null,
      "outputs": [
        {
          "output_type": "stream",
          "name": "stdout",
          "text": [
            "26\n"
          ]
        }
      ]
    },
    {
      "cell_type": "code",
      "source": [
        "def power(N,P):\n",
        "  if P==0:\n",
        "    return 1\n",
        "  else:\n",
        "    return N*power(N,P-1)\n",
        "N=5\n",
        "P=2\n",
        "print(power(N,P))"
      ],
      "metadata": {
        "colab": {
          "base_uri": "https://localhost:8080/"
        },
        "id": "vUqxwRLesB2A",
        "outputId": "038dc4de-6d29-4a1a-cc0c-01129cc4e670"
      },
      "execution_count": null,
      "outputs": [
        {
          "output_type": "stream",
          "name": "stdout",
          "text": [
            "25\n"
          ]
        }
      ]
    },
    {
      "cell_type": "code",
      "source": [
        "def power(N,P):\n",
        "  if P==0:\n",
        "    return N\n",
        "  temp=pow(N,P/2)\n",
        "  return temp*temp\n",
        "N=5\n",
        "P=10\n",
        "print(power(N,P))"
      ],
      "metadata": {
        "colab": {
          "base_uri": "https://localhost:8080/"
        },
        "id": "x6eABscwzK_B",
        "outputId": "d801f731-56de-43b3-a6f9-95f1beb2927f"
      },
      "execution_count": null,
      "outputs": [
        {
          "output_type": "stream",
          "name": "stdout",
          "text": [
            "9765625.0\n"
          ]
        }
      ]
    },
    {
      "cell_type": "code",
      "source": [
        "#given an array of n numbers and annther number x the task is to check weather or not there exists two elemenys in the array whose exact sum is x\n",
        "def findpair(a,n,x):\n",
        "  for i in range(n):\n",
        "    for j in range(n):\n",
        "      if(i !=j and a[i]+a[j]==x):\n",
        "        return True\n",
        "  return False\n",
        "arr=[1.-1,2,4,8]\n",
        "x = 0\n",
        "n=len(arr)\n",
        "if (findpair(arr,n,x)):\n",
        "  print(\"True\")\n",
        "else:\n",
        "  print(\"False\")"
      ],
      "metadata": {
        "colab": {
          "base_uri": "https://localhost:8080/"
        },
        "id": "qc_OTz6u3o17",
        "outputId": "81b16070-4af3-4d74-8a29-34a393d3da61"
      },
      "execution_count": null,
      "outputs": [
        {
          "output_type": "stream",
          "name": "stdout",
          "text": [
            "False\n"
          ]
        }
      ]
    },
    {
      "cell_type": "code",
      "source": [
        "# given an array of n number & another number x,the task is to check weather or not there exist 2 element in the array,whos exast sum is x\n",
        "\n",
        "a=[1,1,2,4,8,-2]\n",
        "x=2\n",
        "def in_sum(a,x):\n",
        "    pair=[]\n",
        "    for i in range(0,len(a)):\n",
        "        for j in range(0,len(a)):\n",
        "            if a[i]+a[j]==x and i!=j:\n",
        "                pair.append([a[i],a[j]])\n",
        "    return pair\n",
        "print(in_sum(a,x))\n",
        "\n",
        "\n",
        "#now the better timecomplexity\n",
        "\n",
        "a=[1,-2,1,0,2]\n",
        "x=0\n",
        "\n",
        "a.sort()\n",
        "print(a)\n",
        "\n",
        "def pair_sum(a,x):\n",
        "    l=0\n",
        "    r=len(a)-1\n",
        "    pair=[]\n",
        "    while(l<r):\n",
        "        if a[l]+a[r]==x:\n",
        "            pair.append([a[l],a[r]])\n",
        "            return True\n",
        "        elif a[l]+a[r]>x:\n",
        "            r=r-1\n",
        "        elif a[l]+a[r]<x:\n",
        "            l=l+1\n",
        "    return False\n",
        "\n",
        "\n",
        "print(pair_sum(a,x))"
      ],
      "metadata": {
        "colab": {
          "base_uri": "https://localhost:8080/"
        },
        "id": "3G1gq00DOybY",
        "outputId": "4a0a0f5f-33f3-4160-d96c-5bb8ec4805a2"
      },
      "execution_count": null,
      "outputs": [
        {
          "output_type": "stream",
          "name": "stdout",
          "text": [
            "[[1, 1], [1, 1], [4, -2], [-2, 4]]\n",
            "[-2, 0, 1, 1, 2]\n",
            "True\n"
          ]
        }
      ]
    },
    {
      "cell_type": "code",
      "source": [],
      "metadata": {
        "id": "f_f4MVt4T4tp"
      },
      "execution_count": null,
      "outputs": []
    },
    {
      "cell_type": "markdown",
      "source": [
        "CONSTANT O(1) - EXCELLENT/BEST\n",
        "O()\n"
      ],
      "metadata": {
        "id": "pburSS7iUcEZ"
      }
    },
    {
      "cell_type": "code",
      "source": [
        "#bbinay search\n",
        "def binary_search(arr,target):\n",
        "  left,right=0,len(arr)-1\n",
        "  while left<=right:\n",
        "    mid=(left+right)//2\n",
        "    if arr[mid]==target:\n",
        "      return mid\n",
        "    elif arr[mid]<target:\n",
        "      left=mid+1\n",
        "    else:\n",
        "      right=mid-1\n",
        "  return -1\n",
        "arr=[1,2,3,4,5,6,7,8,9,10]\n",
        "target=5\n",
        "result=binary_search(arr,target)\n",
        "if result!=-1:\n",
        "  print(\"element found at index\",result)\n",
        "else:\n",
        "  print(\"element not found\")"
      ],
      "metadata": {
        "colab": {
          "base_uri": "https://localhost:8080/"
        },
        "id": "nCYNanE6WvXu",
        "outputId": "13ab1d05-57a5-4a08-abd3-252c3260b153"
      },
      "execution_count": null,
      "outputs": [
        {
          "output_type": "stream",
          "name": "stdout",
          "text": [
            "element found at index 4\n"
          ]
        }
      ]
    },
    {
      "cell_type": "code",
      "source": [
        "def binary_search_recurssive(arr,target,left,right):\n",
        "  if left>right:\n",
        "    return -1\n",
        "  mid=(left+right)//2\n",
        "  if arr[mid]==target:\n",
        "    return mid\n",
        "  elif arr[mid]<target:\n",
        "    return binary_search_recurssive(arr,target,mid+1,right)\n",
        "  else:\n",
        "    return binary_search_recurssive(arr,target,left,mid-1)\n",
        "arr=[1,2,3,4,5,6,7,8,9,10]\n",
        "target=5\n",
        "result=binary_search_recurssive(arr,target,0,len(arr)-1)\n",
        "if result!=-1:\n",
        "  print(\"element found at index\",result)\n",
        "else:\n",
        "  print(\"element not found\")"
      ],
      "metadata": {
        "colab": {
          "base_uri": "https://localhost:8080/"
        },
        "id": "AvSE6zPCxbD3",
        "outputId": "f48d9549-e6b2-4db7-e3dc-d347457b9133"
      },
      "execution_count": null,
      "outputs": [
        {
          "output_type": "stream",
          "name": "stdout",
          "text": [
            "element found at index 4\n"
          ]
        }
      ]
    },
    {
      "cell_type": "code",
      "source": [
        "def linear_search(arr,target):\n",
        "  for i in range(len(arr)):\n",
        "    if arr[i]==target:\n",
        "      return i\n",
        "  return -1\n",
        "arr=[4,2,3,1,5,6,7,10,9,8]\n",
        "target=9\n",
        "result=linear_search(arr,target)\n",
        "if result!=-1:\n",
        "  print(\"element found at index\",result)\n",
        "else:\n",
        "  print(\"element not found\")"
      ],
      "metadata": {
        "colab": {
          "base_uri": "https://localhost:8080/"
        },
        "id": "L6_EPyiCy6Rf",
        "outputId": "7b65451c-60c3-4505-8b56-5061716c2a8c"
      },
      "execution_count": null,
      "outputs": [
        {
          "output_type": "stream",
          "name": "stdout",
          "text": [
            "element found at index 8\n"
          ]
        }
      ]
    },
    {
      "cell_type": "code",
      "source": [
        "#bubble sort\n",
        "def bubble_sort(arr):\n",
        "  n=len(arr)\n",
        "  for i in range(n-1):\n",
        "    for j in range(0,n-i-1):\n",
        "      if arr[j]>arr[j+1]:\n",
        "        arr[j],arr[j+1]=arr[j+1],arr[j]\n",
        "arr=[64,34,25,12,22,11,90]\n",
        "bubble_sort(arr)\n",
        "print(\"sorted array:\",arr)"
      ],
      "metadata": {
        "colab": {
          "base_uri": "https://localhost:8080/"
        },
        "id": "7yewNmG40lgi",
        "outputId": "b2dec470-c003-4a31-aceb-cc95106a3fe7"
      },
      "execution_count": null,
      "outputs": [
        {
          "output_type": "stream",
          "name": "stdout",
          "text": [
            "sorted array: [11, 12, 22, 25, 34, 64, 90]\n"
          ]
        }
      ]
    },
    {
      "cell_type": "code",
      "source": [
        "class Person(object):\n",
        "  def __init__(self,name,id):\n",
        "    self.name=name\n",
        "    self.id=id\n",
        "  def display(self):\n",
        "    print(self.name,self.id)\n",
        "  def details(self):\n",
        "    print(\"name:\",self.name)\n",
        "    print(\"id:\",self.id)\n",
        "class Employee(Person):\n",
        "  def __init__(self,name,id,salary,post):\n",
        "    self.salary=salary\n",
        "    self.post=post\n",
        "    Person. __init__(self,name,id)\n",
        "  def display(self):\n",
        "    print(\"name{}\".format(self.name))\n",
        "    print(\"id{}\".format(self.id))\n",
        "    print(\"My salary{}\".format(self.salary))\n",
        "    print(\"post{}\".format(self.post))\n",
        "a = Employee(\"john\",1,10000,\"manager\")\n",
        "a.display()\n",
        "a.details()"
      ],
      "metadata": {
        "colab": {
          "base_uri": "https://localhost:8080/"
        },
        "id": "eZp10OokN_SS",
        "outputId": "ec752995-a49f-456b-8c6f-c116a7ab87b3"
      },
      "execution_count": null,
      "outputs": [
        {
          "output_type": "stream",
          "name": "stdout",
          "text": [
            "namejohn\n",
            "id1\n",
            "My salary10000\n",
            "postmanager\n",
            "name: john\n",
            "id: 1\n"
          ]
        }
      ]
    },
    {
      "cell_type": "code",
      "source": [
        "class MyCustomException(Exception):\n",
        "  def __init__(self,message):\n",
        "    self.message=message\n",
        "try:\n",
        "  raise MyCustomException(\"something went wrong\")\n",
        "except MyCustomException as e:\n",
        "  print(e.message)"
      ],
      "metadata": {
        "colab": {
          "base_uri": "https://localhost:8080/"
        },
        "id": "n3k_q3lI-06x",
        "outputId": "babcd731-6ce9-4534-a1ee-0eedeeb188b8"
      },
      "execution_count": 2,
      "outputs": [
        {
          "output_type": "stream",
          "name": "stdout",
          "text": [
            "something went wrong\n"
          ]
        }
      ]
    },
    {
      "cell_type": "code",
      "source": [
        "def access_list_element(lst,index):\n",
        "  try:\n",
        "    value=lst[index]\n",
        "    print('value at index',index ,'is:', value)\n",
        "  except IndexError as e:\n",
        "    print('index out of range')\n",
        "\n",
        "my_list=[1,2,3]\n",
        "index=int(input(\"enter the index\"))\n",
        "access_list_element(my_list,index)"
      ],
      "metadata": {
        "colab": {
          "base_uri": "https://localhost:8080/"
        },
        "id": "AaXIh-uwCL_Q",
        "outputId": "d22e437e-25a5-49ec-cc0f-4264d3c87d0c"
      },
      "execution_count": 6,
      "outputs": [
        {
          "output_type": "stream",
          "name": "stdout",
          "text": [
            "enter the index0\n",
            "value at index 0 is: 1\n"
          ]
        }
      ]
    },
    {
      "cell_type": "code",
      "source": [
        "try:\n",
        "  file=open(\"test.txt\",\"r\")\n",
        "  content = file.read()\n",
        "  file.close()\n",
        "except FileNotFoundError:\n",
        "  print(\"file not found\")"
      ],
      "metadata": {
        "colab": {
          "base_uri": "https://localhost:8080/"
        },
        "id": "2DLoiTbTDbE1",
        "outputId": "90884f3d-cfd2-4d86-9b3b-ad075b89e667"
      },
      "execution_count": 7,
      "outputs": [
        {
          "output_type": "stream",
          "name": "stdout",
          "text": [
            "file not found\n"
          ]
        }
      ]
    },
    {
      "cell_type": "code",
      "source": [
        "def access_dictionary_value(dictionary,key):\n",
        "  try:\n",
        "    value=dictionary[key]\n",
        "    print('value at key',key ,'is:', value)\n",
        "  except KeyError as e:\n",
        "    print('key not found')\n",
        "\n",
        "my_dict={'a':1,'b':2,'c':3}\n",
        "key=input(\"enter the key =\")\n",
        "access_dictionary_value(my_dict,key)"
      ],
      "metadata": {
        "colab": {
          "base_uri": "https://localhost:8080/"
        },
        "id": "mmIf9sNFENGp",
        "outputId": "16d9d72e-2c85-48e9-c383-7ae0560d6952"
      },
      "execution_count": 14,
      "outputs": [
        {
          "output_type": "stream",
          "name": "stdout",
          "text": [
            "enter the key =a\n",
            "value at key a is: 1\n"
          ]
        }
      ]
    },
    {
      "cell_type": "code",
      "source": [
        "#program to find upper case and lower case letters in a sentence\n",
        "input=input(\" Enter hte string=\")\n",
        "upper_case=0\n",
        "lower_case=0\n",
        "for i in input:\n",
        "  if i.isupper():\n",
        "    upper_case+=1\n",
        "  elif i.islower():\n",
        "    lower_case+=1\n",
        "print(\"upper case:\",upper_case)\n",
        "print(\"lower case:\",lower_case)\n"
      ],
      "metadata": {
        "colab": {
          "base_uri": "https://localhost:8080/"
        },
        "id": "OqrryShoFWqr",
        "outputId": "b5710413-f5b2-45a2-b55b-219fffc16cc1"
      },
      "execution_count": 15,
      "outputs": [
        {
          "output_type": "stream",
          "name": "stdout",
          "text": [
            " Enter hte string=SDRYFUhgdurejkjghTWSYKTDHG\n",
            "upper case: 15\n",
            "lower case: 11\n"
          ]
        }
      ]
    },
    {
      "cell_type": "code",
      "source": [
        "import string\n",
        "sentence=input(\"Enter the sentence\")\n",
        "wordList=sentence.strip().split(\" \")\n",
        "print(f'this sentence has{len(wordList)}word',end=\"\\n\\n\")\n",
        "digit_count=uppercase_count=lowercase_count=0\n",
        "for character in sentence:\n",
        "    if character in string.digits:\n",
        "        digit_count+=1\n",
        "    elif character in string.ascii_uppercase:\n",
        "        uppercase_count+=1\n",
        "    elif character in string.ascii_lowercase:\n",
        "        lowercase_count+=1\n",
        "print(f'sentence has {digit_count} digits',\n",
        "      f'{uppercase_count} upper case letters',\n",
        "    f'{lowercase_count} lower case letters',sep='\\n')"
      ],
      "metadata": {
        "colab": {
          "base_uri": "https://localhost:8080/",
          "height": 211
        },
        "id": "6em57eyKGk73",
        "outputId": "20ac399a-dbdc-492e-de92-95765c0b5da2"
      },
      "execution_count": 22,
      "outputs": [
        {
          "output_type": "error",
          "ename": "TypeError",
          "evalue": "'str' object is not callable",
          "traceback": [
            "\u001b[0;31m---------------------------------------------------------------------------\u001b[0m",
            "\u001b[0;31mTypeError\u001b[0m                                 Traceback (most recent call last)",
            "\u001b[0;32m<ipython-input-22-94d406da82a8>\u001b[0m in \u001b[0;36m<cell line: 2>\u001b[0;34m()\u001b[0m\n\u001b[1;32m      1\u001b[0m \u001b[0;32mimport\u001b[0m \u001b[0mstring\u001b[0m\u001b[0;34m\u001b[0m\u001b[0;34m\u001b[0m\u001b[0m\n\u001b[0;32m----> 2\u001b[0;31m \u001b[0msentence\u001b[0m\u001b[0;34m=\u001b[0m\u001b[0minput\u001b[0m\u001b[0;34m(\u001b[0m\u001b[0;34m\"Enter the sentence\"\u001b[0m\u001b[0;34m)\u001b[0m\u001b[0;34m\u001b[0m\u001b[0;34m\u001b[0m\u001b[0m\n\u001b[0m\u001b[1;32m      3\u001b[0m \u001b[0mwordList\u001b[0m\u001b[0;34m=\u001b[0m\u001b[0msentence\u001b[0m\u001b[0;34m.\u001b[0m\u001b[0mstrip\u001b[0m\u001b[0;34m(\u001b[0m\u001b[0;34m)\u001b[0m\u001b[0;34m.\u001b[0m\u001b[0msplit\u001b[0m\u001b[0;34m(\u001b[0m\u001b[0;34m\" \"\u001b[0m\u001b[0;34m)\u001b[0m\u001b[0;34m\u001b[0m\u001b[0;34m\u001b[0m\u001b[0m\n\u001b[1;32m      4\u001b[0m \u001b[0mprint\u001b[0m\u001b[0;34m(\u001b[0m\u001b[0;34mf'this sentence has{len(wordList)}word'\u001b[0m\u001b[0;34m,\u001b[0m\u001b[0mend\u001b[0m\u001b[0;34m=\u001b[0m\u001b[0;34m\"\\n\\n\"\u001b[0m\u001b[0;34m)\u001b[0m\u001b[0;34m\u001b[0m\u001b[0;34m\u001b[0m\u001b[0m\n\u001b[1;32m      5\u001b[0m \u001b[0mdigit_count\u001b[0m\u001b[0;34m=\u001b[0m\u001b[0muppercase_count\u001b[0m\u001b[0;34m=\u001b[0m\u001b[0mlowercase_count\u001b[0m\u001b[0;34m=\u001b[0m\u001b[0;36m0\u001b[0m\u001b[0;34m\u001b[0m\u001b[0;34m\u001b[0m\u001b[0m\n",
            "\u001b[0;31mTypeError\u001b[0m: 'str' object is not callable"
          ]
        }
      ]
    },
    {
      "cell_type": "code",
      "source": [],
      "metadata": {
        "id": "3GAsr33nQKZI"
      },
      "execution_count": null,
      "outputs": []
    },
    {
      "cell_type": "code",
      "source": [
        "#given am array of integers and an number k finf the count of disticnt elements ib every window of size k in th array\n",
        "def count_distinct_in_windows(arr,k):\n",
        "  result=[]\n",
        "  for i in range(n-k+1):\n",
        "    window=arr[i:i+k]\n",
        "    distinct_count=len(set(window))\n",
        "    result.append(distinct_count)\n",
        "  return result\n",
        "n=int(input(\"enter the number of elements\"))\n",
        "arr=[]\n",
        "for _ in range(n):\n",
        "  arr.append(int(input()))\n",
        "k=int(input(\"enter the window size\"))\n",
        "result=count_distinct_in_windows(arr,n,k)\n",
        "for count in result:\n",
        "  print(count,end=\"\\t \")"
      ],
      "metadata": {
        "colab": {
          "base_uri": "https://localhost:8080/",
          "height": 211
        },
        "id": "t-8GW4cMLa81",
        "outputId": "8582f29b-f056-41ce-cef2-f1d29cee7663"
      },
      "execution_count": 24,
      "outputs": [
        {
          "output_type": "error",
          "ename": "TypeError",
          "evalue": "'str' object is not callable",
          "traceback": [
            "\u001b[0;31m---------------------------------------------------------------------------\u001b[0m",
            "\u001b[0;31mTypeError\u001b[0m                                 Traceback (most recent call last)",
            "\u001b[0;32m<ipython-input-24-4260925a827c>\u001b[0m in \u001b[0;36m<cell line: 9>\u001b[0;34m()\u001b[0m\n\u001b[1;32m      7\u001b[0m     \u001b[0mresult\u001b[0m\u001b[0;34m.\u001b[0m\u001b[0mappend\u001b[0m\u001b[0;34m(\u001b[0m\u001b[0mdistinct_count\u001b[0m\u001b[0;34m)\u001b[0m\u001b[0;34m\u001b[0m\u001b[0;34m\u001b[0m\u001b[0m\n\u001b[1;32m      8\u001b[0m   \u001b[0;32mreturn\u001b[0m \u001b[0mresult\u001b[0m\u001b[0;34m\u001b[0m\u001b[0;34m\u001b[0m\u001b[0m\n\u001b[0;32m----> 9\u001b[0;31m \u001b[0mn\u001b[0m\u001b[0;34m=\u001b[0m\u001b[0mint\u001b[0m\u001b[0;34m(\u001b[0m\u001b[0minput\u001b[0m\u001b[0;34m(\u001b[0m\u001b[0;34m\"enter the number of elements\"\u001b[0m\u001b[0;34m)\u001b[0m\u001b[0;34m)\u001b[0m\u001b[0;34m\u001b[0m\u001b[0;34m\u001b[0m\u001b[0m\n\u001b[0m\u001b[1;32m     10\u001b[0m \u001b[0marr\u001b[0m\u001b[0;34m=\u001b[0m\u001b[0;34m[\u001b[0m\u001b[0;34m]\u001b[0m\u001b[0;34m\u001b[0m\u001b[0;34m\u001b[0m\u001b[0m\n\u001b[1;32m     11\u001b[0m \u001b[0;32mfor\u001b[0m \u001b[0m_\u001b[0m \u001b[0;32min\u001b[0m \u001b[0mrange\u001b[0m\u001b[0;34m(\u001b[0m\u001b[0mn\u001b[0m\u001b[0;34m)\u001b[0m\u001b[0;34m:\u001b[0m\u001b[0;34m\u001b[0m\u001b[0;34m\u001b[0m\u001b[0m\n",
            "\u001b[0;31mTypeError\u001b[0m: 'str' object is not callable"
          ]
        }
      ]
    },
    {
      "cell_type": "code",
      "source": [
        "#an equillibrium index is an index such that the sum of elements t lower indeces is equal to sum of elementa at higher indeces\n",
        "#[-7 ,1]    output= 3\n",
        "def equilibrium_index(arr):\n",
        "  n=len(arr)\n",
        "  for i in range(1,n-1):\n",
        "      lsum=sum(arr[:i])\n",
        "      rsum = sum(arr[i+1:])\n",
        "      if lsum==rsum:\n",
        "        return i\n",
        "  return -1\n",
        "arr=[-7,1,5,2,-4,3,0]\n",
        "print(\"equillibrium index:\",equilibrium_index(arr))"
      ],
      "metadata": {
        "colab": {
          "base_uri": "https://localhost:8080/"
        },
        "id": "rBm0K7krTj6G",
        "outputId": "9f36bf8c-3703-491c-e503-71eed9c92310"
      },
      "execution_count": 26,
      "outputs": [
        {
          "output_type": "stream",
          "name": "stdout",
          "text": [
            "equillibrium index: 3\n"
          ]
        }
      ]
    },
    {
      "cell_type": "code",
      "source": [
        "# u are given nxn grid where accounts of i and j is the amount of money the ith customers has in jth bank.the customers will is the amount of money they have in all of their bank acc\n",
        "#the richest customer is the customer that has the maximum wealth\n",
        "def find_richest_customer(accounts):\n",
        "    max_wealth=0\n",
        "    for cus in accounts:\n",
        "        wealth=sum(cus)\n",
        "        if wealth > max_wealth:\n",
        "            max_wealth=wealth\n",
        "    return max_wealth\n",
        "\n",
        "if __name__==\"__main__\":\n",
        "    m=int(input(\"Enter the number of customer\"))\n",
        "    n=int(input(\"enter number of banks\"))\n",
        "\n",
        "    account=[]\n",
        "    for i in range(m):\n",
        "        print(\"enter wealth for customer {} in {} banks\".format(i+1,n))\n",
        "        customer_wealth=list(map(int,input().split()))\n",
        "        account.append(customer_wealth)\n",
        "    print(find_richest_customer(account))\n"
      ],
      "metadata": {
        "colab": {
          "base_uri": "https://localhost:8080/",
          "height": 211
        },
        "id": "m9bIRU4TfimW",
        "outputId": "1497aa3c-7e18-4479-9ae2-3e5ca76fc1af"
      },
      "execution_count": 27,
      "outputs": [
        {
          "output_type": "error",
          "ename": "TypeError",
          "evalue": "'str' object is not callable",
          "traceback": [
            "\u001b[0;31m---------------------------------------------------------------------------\u001b[0m",
            "\u001b[0;31mTypeError\u001b[0m                                 Traceback (most recent call last)",
            "\u001b[0;32m<ipython-input-27-6971271d8c8d>\u001b[0m in \u001b[0;36m<cell line: 11>\u001b[0;34m()\u001b[0m\n\u001b[1;32m     10\u001b[0m \u001b[0;34m\u001b[0m\u001b[0m\n\u001b[1;32m     11\u001b[0m \u001b[0;32mif\u001b[0m \u001b[0m__name__\u001b[0m\u001b[0;34m==\u001b[0m\u001b[0;34m\"__main__\"\u001b[0m\u001b[0;34m:\u001b[0m\u001b[0;34m\u001b[0m\u001b[0;34m\u001b[0m\u001b[0m\n\u001b[0;32m---> 12\u001b[0;31m     \u001b[0mm\u001b[0m\u001b[0;34m=\u001b[0m\u001b[0mint\u001b[0m\u001b[0;34m(\u001b[0m\u001b[0minput\u001b[0m\u001b[0;34m(\u001b[0m\u001b[0;34m\"Enter the number of customer\"\u001b[0m\u001b[0;34m)\u001b[0m\u001b[0;34m)\u001b[0m\u001b[0;34m\u001b[0m\u001b[0;34m\u001b[0m\u001b[0m\n\u001b[0m\u001b[1;32m     13\u001b[0m     \u001b[0mn\u001b[0m\u001b[0;34m=\u001b[0m\u001b[0mint\u001b[0m\u001b[0;34m(\u001b[0m\u001b[0minput\u001b[0m\u001b[0;34m(\u001b[0m\u001b[0;34m\"enter number of banks\"\u001b[0m\u001b[0;34m)\u001b[0m\u001b[0;34m)\u001b[0m\u001b[0;34m\u001b[0m\u001b[0;34m\u001b[0m\u001b[0m\n\u001b[1;32m     14\u001b[0m \u001b[0;34m\u001b[0m\u001b[0m\n",
            "\u001b[0;31mTypeError\u001b[0m: 'str' object is not callable"
          ]
        }
      ]
    },
    {
      "cell_type": "code",
      "source": [
        "#given an array of size n-1 such that it only contains disttinct integers int he range of 1 to n find the missing elements input n= 10 and array =[6, 1 2 , 8 3 4 7 10 5]\n",
        "def find_missing_number(N,arr):\n",
        "  total_sum = (N*(N+1))//2\n",
        "  missing_number=total_sum - sum_of_elements\n",
        "  return missing_number\n",
        "\n",
        "if __name__ ==\"__main__\":\n",
        "  N= int(input())\n",
        "  arr = list(map(int,input().split()))\n",
        "  print(find_missing_number(N,arr))"
      ],
      "metadata": {
        "colab": {
          "base_uri": "https://localhost:8080/",
          "height": 211
        },
        "id": "CkEwDtIPnfTF",
        "outputId": "81eb2302-c715-495a-a303-98a35268deba"
      },
      "execution_count": 31,
      "outputs": [
        {
          "output_type": "error",
          "ename": "TypeError",
          "evalue": "'str' object is not callable",
          "traceback": [
            "\u001b[0;31m---------------------------------------------------------------------------\u001b[0m",
            "\u001b[0;31mTypeError\u001b[0m                                 Traceback (most recent call last)",
            "\u001b[0;32m<ipython-input-31-70c4984d4678>\u001b[0m in \u001b[0;36m<cell line: 7>\u001b[0;34m()\u001b[0m\n\u001b[1;32m      6\u001b[0m \u001b[0;34m\u001b[0m\u001b[0m\n\u001b[1;32m      7\u001b[0m \u001b[0;32mif\u001b[0m \u001b[0m__name__\u001b[0m \u001b[0;34m==\u001b[0m\u001b[0;34m\"__main__\"\u001b[0m\u001b[0;34m:\u001b[0m\u001b[0;34m\u001b[0m\u001b[0;34m\u001b[0m\u001b[0m\n\u001b[0;32m----> 8\u001b[0;31m   \u001b[0mN\u001b[0m\u001b[0;34m=\u001b[0m \u001b[0mint\u001b[0m\u001b[0;34m(\u001b[0m\u001b[0minput\u001b[0m\u001b[0;34m(\u001b[0m\u001b[0;34m)\u001b[0m\u001b[0;34m)\u001b[0m\u001b[0;34m\u001b[0m\u001b[0;34m\u001b[0m\u001b[0m\n\u001b[0m\u001b[1;32m      9\u001b[0m   \u001b[0marr\u001b[0m \u001b[0;34m=\u001b[0m \u001b[0mlist\u001b[0m\u001b[0;34m(\u001b[0m\u001b[0mmap\u001b[0m\u001b[0;34m(\u001b[0m\u001b[0mint\u001b[0m\u001b[0;34m,\u001b[0m\u001b[0minput\u001b[0m\u001b[0;34m(\u001b[0m\u001b[0;34m)\u001b[0m\u001b[0;34m.\u001b[0m\u001b[0msplit\u001b[0m\u001b[0;34m(\u001b[0m\u001b[0;34m)\u001b[0m\u001b[0;34m)\u001b[0m\u001b[0;34m)\u001b[0m\u001b[0;34m\u001b[0m\u001b[0;34m\u001b[0m\u001b[0m\n\u001b[1;32m     10\u001b[0m   \u001b[0mprint\u001b[0m\u001b[0;34m(\u001b[0m\u001b[0mfind_missing_number\u001b[0m\u001b[0;34m(\u001b[0m\u001b[0mN\u001b[0m\u001b[0;34m,\u001b[0m\u001b[0marr\u001b[0m\u001b[0;34m)\u001b[0m\u001b[0;34m)\u001b[0m\u001b[0;34m\u001b[0m\u001b[0;34m\u001b[0m\u001b[0m\n",
            "\u001b[0;31mTypeError\u001b[0m: 'str' object is not callable"
          ]
        }
      ]
    },
    {
      "cell_type": "code",
      "source": [
        "import random\n",
        "def generate_randon_number(low,high):\n",
        "  return random.randint(low,high)\n",
        "def check_guess(secret_number,guess):\n",
        "  if guess<secret_number:\n",
        "    return \"too low\"\n",
        "  elif guess>secret_number:\n",
        "    return \"too high\"\n",
        "  else:\n",
        "    return \"correct\"\n",
        "def main():\n",
        "  low=1\n",
        "  high=100\n",
        "  secret_number=generate_randon_number(low,high)\n",
        "  print(f\"guess the nymber betwen {low} and {high}.\")\n",
        "  guesses = 0\n",
        "  while True:\n",
        "    guess=int(input(\"enter the number\"))\n",
        "    result=check_guess(secret_number,guess)\n",
        "    print(result)\n",
        "    guesses+=1\n",
        "    if result==\"correct\":\n",
        "      print(f\"you guessed the number in {guesses} guesses\")\n",
        "      break\n",
        "if __name__==\"__main__\":\n",
        "  main()"
      ],
      "metadata": {
        "id": "oVMrAnlWsded",
        "outputId": "b8af9f1f-6d59-4a5f-f658-8eabaf73411c",
        "colab": {
          "base_uri": "https://localhost:8080/",
          "height": 315
        }
      },
      "execution_count": 40,
      "outputs": [
        {
          "output_type": "stream",
          "name": "stdout",
          "text": [
            "guessess the nymber betwen 1 and 100.\n"
          ]
        },
        {
          "output_type": "error",
          "ename": "TypeError",
          "evalue": "'str' object is not callable",
          "traceback": [
            "\u001b[0;31m---------------------------------------------------------------------------\u001b[0m",
            "\u001b[0;31mTypeError\u001b[0m                                 Traceback (most recent call last)",
            "\u001b[0;32m<ipython-input-40-d3f82d82bbeb>\u001b[0m in \u001b[0;36m<cell line: 25>\u001b[0;34m()\u001b[0m\n\u001b[1;32m     24\u001b[0m       \u001b[0;32mbreak\u001b[0m\u001b[0;34m\u001b[0m\u001b[0;34m\u001b[0m\u001b[0m\n\u001b[1;32m     25\u001b[0m \u001b[0;32mif\u001b[0m \u001b[0m__name__\u001b[0m\u001b[0;34m==\u001b[0m\u001b[0;34m\"__main__\"\u001b[0m\u001b[0;34m:\u001b[0m\u001b[0;34m\u001b[0m\u001b[0;34m\u001b[0m\u001b[0m\n\u001b[0;32m---> 26\u001b[0;31m   \u001b[0mmain\u001b[0m\u001b[0;34m(\u001b[0m\u001b[0;34m)\u001b[0m\u001b[0;34m\u001b[0m\u001b[0;34m\u001b[0m\u001b[0m\n\u001b[0m",
            "\u001b[0;32m<ipython-input-40-d3f82d82bbeb>\u001b[0m in \u001b[0;36mmain\u001b[0;34m()\u001b[0m\n\u001b[1;32m     16\u001b[0m   \u001b[0mguesses\u001b[0m \u001b[0;34m=\u001b[0m \u001b[0;36m0\u001b[0m\u001b[0;34m\u001b[0m\u001b[0;34m\u001b[0m\u001b[0m\n\u001b[1;32m     17\u001b[0m   \u001b[0;32mwhile\u001b[0m \u001b[0;32mTrue\u001b[0m\u001b[0;34m:\u001b[0m\u001b[0;34m\u001b[0m\u001b[0;34m\u001b[0m\u001b[0m\n\u001b[0;32m---> 18\u001b[0;31m     \u001b[0mguessess\u001b[0m\u001b[0;34m=\u001b[0m\u001b[0mint\u001b[0m\u001b[0;34m(\u001b[0m\u001b[0minput\u001b[0m\u001b[0;34m(\u001b[0m\u001b[0;34m\"enter the number\"\u001b[0m\u001b[0;34m)\u001b[0m\u001b[0;34m)\u001b[0m\u001b[0;34m\u001b[0m\u001b[0;34m\u001b[0m\u001b[0m\n\u001b[0m\u001b[1;32m     19\u001b[0m     \u001b[0mresult\u001b[0m\u001b[0;34m=\u001b[0m\u001b[0mcheck_guess\u001b[0m\u001b[0;34m(\u001b[0m\u001b[0msecret_number\u001b[0m\u001b[0;34m,\u001b[0m\u001b[0mguessess\u001b[0m\u001b[0;34m)\u001b[0m\u001b[0;34m\u001b[0m\u001b[0;34m\u001b[0m\u001b[0m\n\u001b[1;32m     20\u001b[0m     \u001b[0mprint\u001b[0m\u001b[0;34m(\u001b[0m\u001b[0mresult\u001b[0m\u001b[0;34m)\u001b[0m\u001b[0;34m\u001b[0m\u001b[0;34m\u001b[0m\u001b[0m\n",
            "\u001b[0;31mTypeError\u001b[0m: 'str' object is not callable"
          ]
        }
      ]
    },
    {
      "cell_type": "code",
      "source": [
        "import random\n",
        "\n",
        "def demonstrate_random_module():\n",
        "    print(\"random module demonstration\")\n",
        "\n",
        "    print(\"random.random():\")\n",
        "    print(random.random())\n",
        "\n",
        "    print(\"random.randrange(1,10,2):\")\n",
        "    print(random.radrange(1,10,2))\n",
        "\n",
        "    my_list=[1,2,3,4,5]\n",
        "    print(\"random.choice([1,2,3,4,5])\")\n",
        "    print(random.choice(my_list))\n",
        "\n",
        "    print(\"random.choice([1,2,3,4,5],k=3):\")\n",
        "    print(random.choices(my_list,k=3))\n",
        "\n",
        "    print(\"random.sample([1,2,3,4,5],k=3)\")\n",
        "    print(random.sample(my_list,k=3))\n",
        "\n",
        ""
      ],
      "metadata": {
        "id": "8sGk7TKOF2hE"
      },
      "execution_count": 2,
      "outputs": []
    }
  ]
}